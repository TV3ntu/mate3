{
 "cells": [
  {
   "cell_type": "markdown",
   "id": "8d0eae86",
   "metadata": {},
   "source": [
    "En en una escuela de 1000 alumnos, se han evaluado literatura, matemática y biología, obteniéndose los siguientes resultados:\n",
    "680 aprobaron literatura. Los datos de la evaluación de Literatura se registraron en un\n",
    "diccionario:\n",
    "Literatura = {\"Romántica\": 40, \"Clásica\": 118, \"Fantástica\": 50, \"Moderna\": 95,\n",
    " \"Antigüa\": 56, \"Poesía\": 131, \"Cuento\": 87, \"Novela\": 103}\n",
    "320 aprobaron biología. Los datos de la evaluación de Biología se registraron en una tupla:\n",
    "Biologia = (40, 50, 60, 75, 34, 61)\n",
    "490 aprobaron matemática. Los datos de la evaluación de Matemática se registraron en una\n",
    "lista:\n",
    "Matematica = [34, 40, 61, 75, 87, 90, 103]\n",
    "Responder:\n",
    "- a. cuántos aprobaron biología matemática y literatura.\n",
    "- b. cuántos aprobaron sólo literatura y matemática?\n",
    "- c. cuántos aprobaron sólo literatura?\n",
    "- d. cuántos aprobaron solo biología?\n",
    "- e. cuántos aprobaron sólo matemática?\n",
    "- f. cuántos aprobaron 2 de los 3 exámenes?\n",
    "\n",
    "#### A modo de sugerencia se indican los pasos ordenados para la solución:\n",
    "\n",
    "- 1. declaraciones\n",
    "- 2. definir funciones de control (opcional) y otras (necesarias)\n",
    "- 3. convertir en set las estructuras\n",
    "- 4. Resolver las preguntas y resto de opciones para armar el gráfico\n",
    "- 5. Definir diagrama de Venn, gráfico y respuestas."
   ]
  },
  {
   "cell_type": "code",
   "execution_count": 257,
   "id": "673e86b8",
   "metadata": {},
   "outputs": [],
   "source": [
    "from matplotlib import pyplot as plt\n",
    "from matplotlib_venn import venn3, venn3_circles"
   ]
  },
  {
   "cell_type": "code",
   "execution_count": 2,
   "id": "4bc0c228",
   "metadata": {},
   "outputs": [],
   "source": [
    "literatura = {\"Romántica\": 40, \"Clásica\": 118, \"Fantástica\": 50, \"Moderna\": 95, \"Antigüa\": 56, \"Poesía\": 131, \"Cuento\": 87, \"Novela\": 103}\n",
    "biologia = (40, 50, 60, 75, 34, 61) \n",
    "matematica = [34, 40, 61, 75, 87, 90, 103]\n",
    "\n",
    "ninguno = 0\n",
    "universal = 1490"
   ]
  },
  {
   "cell_type": "markdown",
   "id": "e049d5cd",
   "metadata": {},
   "source": [
    "#### Controlo los totales de las materias:\n",
    "- Literatura: 680\n",
    "- Biología: 320\n",
    "- Matemática: 490"
   ]
  },
  {
   "cell_type": "code",
   "execution_count": 9,
   "id": "ee798eae",
   "metadata": {},
   "outputs": [],
   "source": [
    "def get_total(iterable):\n",
    "    total = 0\n",
    "    if type(iterable) is dict:\n",
    "        iterable = [x for x in iterable.values()]\n",
    "    for element in iterable:\n",
    "            total += element\n",
    "    return total"
   ]
  },
  {
   "cell_type": "code",
   "execution_count": 6,
   "id": "9968ff1d",
   "metadata": {},
   "outputs": [],
   "source": [
    "def to_set(iterable):\n",
    "    if type(iterable) is dict:\n",
    "        iterable = set([x for x in iterable.values()])\n",
    "    else:\n",
    "        iterable = set(iterable)\n",
    "    return iterable"
   ]
  },
  {
   "cell_type": "code",
   "execution_count": 261,
   "id": "6b466a3e",
   "metadata": {},
   "outputs": [
    {
     "name": "stdout",
     "output_type": "stream",
     "text": [
      "Total Literatura: 680\n"
     ]
    }
   ],
   "source": [
    "total_literatura = get_total(literatura)\n",
    "print(f'Total Literatura: {total_literatura}')"
   ]
  },
  {
   "cell_type": "code",
   "execution_count": 262,
   "id": "81201316",
   "metadata": {},
   "outputs": [
    {
     "name": "stdout",
     "output_type": "stream",
     "text": [
      "Total Biología: 320\n"
     ]
    }
   ],
   "source": [
    "total_biologia = get_total(biologia)\n",
    "print(f'Total Biología: {total_biologia}')"
   ]
  },
  {
   "cell_type": "code",
   "execution_count": 263,
   "id": "6639085b",
   "metadata": {},
   "outputs": [
    {
     "name": "stdout",
     "output_type": "stream",
     "text": [
      "Total Matemática: 490\n"
     ]
    }
   ],
   "source": [
    "total_matematica = get_total(matematica)\n",
    "print(f'Total Matemática: {total_matematica}')"
   ]
  },
  {
   "cell_type": "markdown",
   "id": "9652f3b8",
   "metadata": {},
   "source": [
    "#### Convierto a set las estructuras"
   ]
  },
  {
   "cell_type": "code",
   "execution_count": 7,
   "id": "d2129c3c",
   "metadata": {},
   "outputs": [],
   "source": [
    "literatura = to_set(literatura)\n",
    "biologia = to_set(biologia)\n",
    "matematica = to_set(matematica)"
   ]
  },
  {
   "cell_type": "code",
   "execution_count": 8,
   "id": "71fac19f",
   "metadata": {},
   "outputs": [
    {
     "data": {
      "text/plain": [
       "320"
      ]
     },
     "execution_count": 8,
     "metadata": {},
     "output_type": "execute_result"
    }
   ],
   "source": [
    "sum(biologia)"
   ]
  },
  {
   "cell_type": "markdown",
   "id": "214d1523",
   "metadata": {},
   "source": [
    "#### Respondo las preguntas"
   ]
  },
  {
   "cell_type": "code",
   "execution_count": 265,
   "id": "46ab6acf",
   "metadata": {},
   "outputs": [
    {
     "name": "stdout",
     "output_type": "stream",
     "text": [
      "40 aprobaron biología matemática y literatura\n"
     ]
    }
   ],
   "source": [
    "matematica_y_literatura_y_biologia = literatura & biologia & matematica\n",
    "print(f'{get_total(matematica_y_literatura_y_biologia)} aprobaron biología matemática y literatura')"
   ]
  },
  {
   "cell_type": "code",
   "execution_count": 296,
   "id": "22e02ead",
   "metadata": {},
   "outputs": [
    {
     "name": "stdout",
     "output_type": "stream",
     "text": [
      "190 aprobaron literatura y matemática\n"
     ]
    }
   ],
   "source": [
    "literatura_y_matematica = (literatura & matematica) - biologia\n",
    "print(f'{get_total(literatura_y_matematica)} aprobaron literatura y matemática')"
   ]
  },
  {
   "cell_type": "code",
   "execution_count": 297,
   "id": "64dc7026",
   "metadata": {},
   "outputs": [
    {
     "name": "stdout",
     "output_type": "stream",
     "text": [
      "50 aprobaron literatura y biología\n"
     ]
    }
   ],
   "source": [
    "literatura_y_biologia = (literatura & biologia) - matematica\n",
    "print(f'{get_total(literatura_y_biologia)} aprobaron literatura y biología')"
   ]
  },
  {
   "cell_type": "code",
   "execution_count": 298,
   "id": "7870a2c3",
   "metadata": {},
   "outputs": [
    {
     "name": "stdout",
     "output_type": "stream",
     "text": [
      "170 aprobaron matemática y biología\n"
     ]
    }
   ],
   "source": [
    "matematica_y_biologia = (matematica & biologia) - literatura\n",
    "print(f'{get_total(matematica_y_biologia)} aprobaron matemática y biología')"
   ]
  },
  {
   "cell_type": "code",
   "execution_count": 269,
   "id": "7e4e347a",
   "metadata": {},
   "outputs": [
    {
     "name": "stdout",
     "output_type": "stream",
     "text": [
      "400 aprobaron solo literatura\n"
     ]
    }
   ],
   "source": [
    "solo_literatura = (literatura - matematica) & (literatura - biologia)\n",
    "print(f'{get_total(solo_literatura)} aprobaron solo literatura')"
   ]
  },
  {
   "cell_type": "code",
   "execution_count": 270,
   "id": "81fc2188",
   "metadata": {},
   "outputs": [
    {
     "name": "stdout",
     "output_type": "stream",
     "text": [
      "60 aprobaron solo biología\n"
     ]
    }
   ],
   "source": [
    "solo_biologia = (biologia - matematica) & (biologia - literatura)\n",
    "print(f'{get_total(solo_biologia)} aprobaron solo biología')"
   ]
  },
  {
   "cell_type": "code",
   "execution_count": 271,
   "id": "fa24853f",
   "metadata": {},
   "outputs": [
    {
     "name": "stdout",
     "output_type": "stream",
     "text": [
      "90 aprobaron solo matemática\n"
     ]
    }
   ],
   "source": [
    "solo_matematica = (matematica - literatura) & (matematica - biologia)\n",
    "print(f'{get_total(solo_matematica)} aprobaron solo matemática')"
   ]
  },
  {
   "cell_type": "code",
   "execution_count": 272,
   "id": "825bca17",
   "metadata": {},
   "outputs": [
    {
     "name": "stdout",
     "output_type": "stream",
     "text": [
      "450 aprobaron 2 de 3 exámenes\n"
     ]
    }
   ],
   "source": [
    "dos_de_tres = (matematica & literatura) | (matematica & biologia) | (biologia & literatura)\n",
    "print(f'{get_total(dos_de_tres)} aprobaron 2 de 3 exámenes')"
   ]
  },
  {
   "cell_type": "markdown",
   "id": "18951b48",
   "metadata": {},
   "source": [
    "#### Armado del gráfico"
   ]
  },
  {
   "cell_type": "code",
   "execution_count": 305,
   "id": "7120e0bb",
   "metadata": {},
   "outputs": [
    {
     "data": {
      "image/png": "[encoded data removed]",
      "text/plain": [
       "<Figure size 432x288 with 1 Axes>"
      ]
     },
     "metadata": {},
     "output_type": "display_data"
    }
   ],
   "source": [
    "#renombro algunas variables\n",
    "l = solo_literatura\n",
    "b = solo_biologia\n",
    "m = solo_matematica\n",
    "lb = literatura_y_biologia\n",
    "mb = matematica_y_biologia\n",
    "lm = literatura_y_matematica\n",
    "mlb = matematica_y_literatura_y_biologia\n",
    "# preparamos la ventana del gráfico\n",
    "plt.figure('Primer parcial 7/5/2020')\n",
    "\n",
    "# dibujo los diagramas\n",
    "diagram = venn3((total_literatura, total_matematica,get_total(lm), total_biologia,get_total(lb), get_total(mb), get_total(mlb)),\n",
    "                set_labels=(\"Literatura\", \"Matemática\", \"Biología\"))\n",
    "\n",
    "# establecemos el tamaño de la fuente\n",
    "for subset in (\"111\", \"110\", \"101\", \"100\", \"011\", \"010\", \"001\"):\n",
    "    diagram.get_label_by_id(subset).set_fontsize(10)\n",
    "\n",
    "# transferimos los resultados de las operaciones\n",
    "diagram.get_label_by_id('100').set_text(l)\n",
    "diagram.get_label_by_id('010').set_text(b)\n",
    "diagram.get_label_by_id('001').set_text(m)\n",
    "diagram.get_label_by_id('110').set_text(lb)\n",
    "diagram.get_label_by_id('011').set_text(mb)\n",
    "diagram.get_label_by_id('101').set_text(lm)\n",
    "diagram.get_label_by_id('111').set_text(mlb)\n",
    "\n",
    "# marcamos los contornos\n",
    "venn3_circles(subsets=(total_literatura, total_matematica,get_total(lm),total_biologia,get_total(lb),get_total(mb), get_total(mlb)))\n",
    "\n",
    "# agregamos más datos aclaratorios al gráfico\n",
    "plt.text(0.9, -0.2,      # Texto y cantidad universal\n",
    "         f\"Universal = {universal}\",\n",
    "         size=10)\n",
    "\n",
    "plt.text(0.90, -0.5,      # Texto fuera del conjunto\n",
    "         f\"Fuera\\nde los\\nconjuntos = {ninguno}\",\n",
    "         size=10)\n",
    "\n",
    "# Respondemos las preguntas\n",
    "plt.text(-2, -0.20,\n",
    "         s=\"Respuestas solicitadas: \",\n",
    "         size=8,\n",
    "         ha=\"left\",  # alineación horizontal\n",
    "         va=\"bottom\",  # alineación vertical\n",
    "         bbox=dict(boxstyle=\"square\",  # tipo de cuadro\n",
    "                   ec=(1.0, 0.7, 0.5),\n",
    "                   fc=(1.0, 0.9, 0.8),))\n",
    "\n",
    "plt.text(-2, -0.30,\n",
    "         s=\"Aprobaron biología matemática y literatura:  = \" + str(get_total(mlb)),\n",
    "         size=8,\n",
    "         ha=\"left\",  # alineación horizontal\n",
    "         va=\"bottom\",  # alineación vertical\n",
    "         bbox=dict(boxstyle=\"square\",  # tipo de cuadro\n",
    "                   ec=(1.0, 0.7, 0.5),\n",
    "                   fc=(1.0, 0.9, 0.8),))\n",
    "\n",
    "plt.text(-2, -0.40,\n",
    "         s=\"Aprobaron sólo literatura y matemática = \" + str(get_total(lm)),\n",
    "         size=8,\n",
    "         ha=\"left\",  # alineación horizontal\n",
    "         va=\"bottom\",  # alineación vertical\n",
    "         bbox=dict(boxstyle=\"square\",  # tipo de cuadro\n",
    "                   ec=(1.0, 0.7, 0.5),\n",
    "                   fc=(1.0, 0.9, 0.8),))\n",
    "\n",
    "plt.text(-2, -0.50,\n",
    "         s=\"Aprobaron solo literatura = \" + str(get_total(l)),\n",
    "         size=8,\n",
    "         ha=\"left\",  # alineación horizontal\n",
    "         va=\"bottom\",  # alineación vertical\n",
    "         bbox=dict(boxstyle=\"square\",  # tipo de cuadro\n",
    "                   ec=(1.0, 0.7, 0.5),\n",
    "                   fc=(1.0, 0.9, 0.8),))\n",
    "\n",
    "plt.text(-2, -0.60,\n",
    "         s=\"Aprobaron solo biología = \" + str(get_total(b)),\n",
    "         size=8,\n",
    "         ha=\"left\",  # alineación horizontal\n",
    "         va=\"bottom\",  # alineación vertical\n",
    "         bbox=dict(boxstyle=\"square\",  # tipo de cuadro\n",
    "                   ec=(1.0, 0.7, 0.5),\n",
    "                   fc=(1.0, 0.9, 0.8),))\n",
    "\n",
    "\n",
    "plt.text(-2, -0.70,\n",
    "         s=\"Aprobaron solo matemática = \" + str(get_total(m)),\n",
    "         size=8,\n",
    "         ha=\"left\",  # alineación horizontal\n",
    "         va=\"bottom\",  # alineación vertical\n",
    "         bbox=dict(boxstyle=\"square\",  # tipo de cuadro\n",
    "                   ec=(1.0, 0.7, 0.5),\n",
    "                   fc=(1.0, 0.9, 0.8),))\n",
    "\n",
    "\n",
    "plt.text(-2, -0.70,\n",
    "         s=\"Aprobaron 2 de 3 exámenes = \" + str(get_total(dos_de_tres)),\n",
    "         size=8,\n",
    "         ha=\"left\",  # alineación horizontal\n",
    "         va=\"bottom\",  # alineación vertical\n",
    "         bbox=dict(boxstyle=\"square\",  # tipo de cuadro\n",
    "                   ec=(1.0, 0.7, 0.5),\n",
    "                   fc=(1.0, 0.9, 0.8),))\n",
    "\n",
    "plt.axis('off')  # Recuadro\n",
    "plt.title(\"Examenes\",size=25)\n",
    "plt.show()\n",
    "\n"
   ]
  },
  {
   "cell_type": "markdown",
   "id": "889ec7b9",
   "metadata": {},
   "source": [
    "- a. cuántos aprobaron biología matemática y literatura.\n",
    "- b. cuántos aprobaron sólo literatura y matemática?\n",
    "- c. cuántos aprobaron sólo literatura?\n",
    "- d. cuántos aprobaron solo biología?\n",
    "- e. cuántos aprobaron sólo matemática?\n",
    "- f. cuántos aprobaron 2 de los 3 exámenes?"
   ]
  },
  {
   "cell_type": "code",
   "execution_count": null,
   "id": "2580cda7",
   "metadata": {},
   "outputs": [],
   "source": [
    "\n",
    "biologia = sum(set(tupla_biologia))\n",
    "print(f'Total Biologia: {biologia}')"
   ]
  }
 ],
 "metadata": {
  "kernelspec": {
   "display_name": "Python 3 (ipykernel)",
   "language": "python",
   "name": "python3"
  },
  "language_info": {
   "codemirror_mode": {
    "name": "ipython",
    "version": 3
   },
   "file_extension": ".py",
   "mimetype": "text/x-python",
   "name": "python",
   "nbconvert_exporter": "python",
   "pygments_lexer": "ipython3",
   "version": "3.7.9"
  }
 },
 "nbformat": 4,
 "nbformat_minor": 5
}
