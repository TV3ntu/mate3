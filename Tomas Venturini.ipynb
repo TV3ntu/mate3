{
 "cells": [
  {
   "cell_type": "markdown",
   "id": "4ca6ccf5",
   "metadata": {},
   "source": [
    "En una escuela de 1000 alumnos, se han evluado literatura, matematica y biologia, obteniendose los siguientes resultados:\n",
    "- 680 aprobaron literatura y los datos se recolectaron en un diccionario\n",
    "- 320 aprobaron biologia y los datos se recolectaron en una tupla\n",
    "- 490 aprobaron matematica y los datos se recolectaron en una lista"
   ]
  },
  {
   "cell_type": "code",
   "execution_count": 10,
   "id": "befdbb49",
   "metadata": {},
   "outputs": [],
   "source": [
    "from matplotlib import pyplot as plt\n",
    "from matplotlib_venn import venn3, venn3_circles"
   ]
  },
  {
   "cell_type": "code",
   "execution_count": 11,
   "id": "98063371",
   "metadata": {},
   "outputs": [],
   "source": [
    "literatura = {\"Romántica\": 40, \"Clásica\": 118, \"Fantástica\": 50, \"Moderna\": 95, \"Antigüa\": 56, \"Poesía\": 131, \"Cuento\": 87, \"Novela\": 103}\n",
    "biologia = (40, 50, 60, 75, 34, 61) \n",
    "matematica = [34, 40, 61, 75, 87, 90, 103]\n",
    "\n",
    "ninguno = 0\n",
    "universal = 1490"
   ]
  },
  {
   "cell_type": "code",
   "execution_count": 12,
   "id": "5b8de99f",
   "metadata": {},
   "outputs": [],
   "source": [
    "def dict_values_to_list(dictionary):\n",
    "    dict_list = [x for x in dictionary.values()]\n",
    "    return dict_list"
   ]
  },
  {
   "cell_type": "code",
   "execution_count": 13,
   "id": "c7c49ea7",
   "metadata": {},
   "outputs": [],
   "source": [
    "def get_total(iterable):\n",
    "    if type(iterable) is dict:\n",
    "        iterable = dict_values_to_list(iterable)\n",
    "    return sum(iterable)"
   ]
  },
  {
   "cell_type": "code",
   "execution_count": 14,
   "id": "c94c6810",
   "metadata": {},
   "outputs": [],
   "source": [
    "def to_set(iterable):\n",
    "    if type(iterable) is dict:\n",
    "        iterable = dict_values_to_list(iterable)\n",
    "    iterable = set(iterable)\n",
    "    return iterable"
   ]
  },
  {
   "cell_type": "code",
   "execution_count": 15,
   "id": "1ae886bf",
   "metadata": {},
   "outputs": [
    {
     "ename": "SyntaxError",
     "evalue": "invalid syntax (2957340057.py, line 2)",
     "output_type": "error",
     "traceback": [
      "\u001b[0;36m  File \u001b[0;32m\"/var/folders/f_/367rs5z90kd_g2md67x3tfr5s8crz3/T/ipykernel_21887/2957340057.py\"\u001b[0;36m, line \u001b[0;32m2\u001b[0m\n\u001b[0;31m    for element in conjunto_chi\u001b[0m\n\u001b[0m                               ^\u001b[0m\n\u001b[0;31mSyntaxError\u001b[0m\u001b[0;31m:\u001b[0m invalid syntax\n"
     ]
    }
   ],
   "source": [
    "def esta_en(conjunto_chico,conjunto_grande):\n",
    "    for element in conjunto_chi"
   ]
  },
  {
   "cell_type": "markdown",
   "id": "f2cdd9e2",
   "metadata": {},
   "source": [
    "#### Controlo los totales de las materias:\n",
    "- Literatura: 680\n",
    "- Biología: 320\n",
    "- Matemática: 490"
   ]
  },
  {
   "cell_type": "code",
   "execution_count": 16,
   "id": "9315ccf5",
   "metadata": {},
   "outputs": [
    {
     "data": {
      "text/plain": [
       "680"
      ]
     },
     "execution_count": 16,
     "metadata": {},
     "output_type": "execute_result"
    }
   ],
   "source": [
    "get_total(literatura)"
   ]
  },
  {
   "cell_type": "code",
   "execution_count": 17,
   "id": "031bb258",
   "metadata": {},
   "outputs": [
    {
     "data": {
      "text/plain": [
       "320"
      ]
     },
     "execution_count": 17,
     "metadata": {},
     "output_type": "execute_result"
    }
   ],
   "source": [
    "get_total(biologia)"
   ]
  },
  {
   "cell_type": "code",
   "execution_count": 18,
   "id": "19240311",
   "metadata": {},
   "outputs": [
    {
     "data": {
      "text/plain": [
       "490"
      ]
     },
     "execution_count": 18,
     "metadata": {},
     "output_type": "execute_result"
    }
   ],
   "source": [
    "get_total(matematica)"
   ]
  },
  {
   "cell_type": "markdown",
   "id": "590fe456",
   "metadata": {},
   "source": [
    "#### Convierto a set las estructuras y armo los conjuntos"
   ]
  },
  {
   "cell_type": "code",
   "execution_count": 19,
   "id": "409e1eb6",
   "metadata": {},
   "outputs": [],
   "source": [
    "literatura = to_set(literatura)\n",
    "biologia = to_set(biologia)\n",
    "matematica = to_set(matematica)"
   ]
  },
  {
   "cell_type": "code",
   "execution_count": 20,
   "id": "22163d5d",
   "metadata": {},
   "outputs": [],
   "source": [
    "literatura_y_biologia = literatura & biologia\n",
    "literatura_y_matematica = literatura & matematica\n",
    "biologia_y_matematica = biologia & matematica\n",
    "todos = biologia & literatura & matematica"
   ]
  },
  {
   "cell_type": "code",
   "execution_count": 21,
   "id": "83dfde3d",
   "metadata": {},
   "outputs": [],
   "source": [
    "solo_biologia = biologia - matematica - literatura\n",
    "solo_matematica = matematica - biologia - literatura\n",
    "solo_literatura = literatura - matematica - biologia\n",
    "solo_literatura_y_biologia = literatura_y_biologia - matematica\n",
    "solo_literatura_y_matematica = literatura_y_matematica - biologia\n",
    "solo_biologia_y_matematica = biologia_y_matematica - literatura\n",
    "dos_de_tres = (matematica & literatura) | (matematica & biologia) | (biologia & literatura)"
   ]
  },
  {
   "cell_type": "markdown",
   "id": "6b5c967e",
   "metadata": {},
   "source": [
    "#### Respondo las preguntas"
   ]
  },
  {
   "cell_type": "code",
   "execution_count": 22,
   "id": "9e2430af",
   "metadata": {},
   "outputs": [
    {
     "name": "stdout",
     "output_type": "stream",
     "text": [
      "- a. ¿cuántos aprobaron biología matemática y literatura? 40\n",
      "- b. ¿cuántos aprobaron sólo literatura y matemática? 190\n",
      "- c. ¿cuántos aprobaron sólo literatura? 400\n",
      "- d. ¿cuántos aprobaron sólo biologia? 60\n",
      "- e. ¿cuántos aprobaron sólo matematica? 90\n",
      "- f. cuántos aprobaron 2 de los 3 exámenes? 450\n"
     ]
    }
   ],
   "source": [
    "print(f'- a. ¿cuántos aprobaron biología matemática y literatura? {get_total(todos)}')\n",
    "print(f'- b. ¿cuántos aprobaron sólo literatura y matemática? {get_total(solo_literatura_y_matematica)}')\n",
    "print(f'- c. ¿cuántos aprobaron sólo literatura? {get_total(solo_literatura)}')\n",
    "print(f'- d. ¿cuántos aprobaron sólo biologia? {get_total(solo_biologia)}')\n",
    "print(f'- e. ¿cuántos aprobaron sólo matematica? {get_total(solo_matematica)}')\n",
    "print(f'- f. cuántos aprobaron 2 de los 3 exámenes? {get_total(dos_de_tres)}')"
   ]
  },
  {
   "cell_type": "markdown",
   "id": "d27a5fe6",
   "metadata": {},
   "source": [
    "#### Armado del grafico"
   ]
  },
  {
   "cell_type": "code",
   "execution_count": 23,
   "id": "1d812b9c",
   "metadata": {},
   "outputs": [],
   "source": [
    "#renombro algunas variables para que sea mas corto\n",
    "l = get_total(solo_literatura)\n",
    "b = get_total(solo_biologia)\n",
    "m = get_total(solo_matematica)\n",
    "lb = get_total(solo_literatura_y_biologia)\n",
    "mb = get_total(solo_biologia_y_matematica)\n",
    "lm = get_total(solo_literatura_y_matematica)\n",
    "mlb = get_total(todos)"
   ]
  },
  {
   "cell_type": "code",
   "execution_count": 25,
   "id": "ebab5ed4",
   "metadata": {},
   "outputs": [
    {
     "data": {
      "image/png": "[encoded data removed]",
      "text/plain": [
       "<Figure size 432x288 with 1 Axes>"
      ]
     },
     "metadata": {},
     "output_type": "display_data"
    }
   ],
   "source": [
    "plt.figure('Primer parcial Venturini')\n",
    "\n",
    "# Armo los circulos con los tamaños apropiados, de esta manera tmb se colocan los textos\n",
    "venn3((l, m, lm, b, lb, mb, mlb), set_labels=(\"Literatura\", \"Matemática\", \"Biología\"))\n",
    "\n",
    "# Tamaño de la fuente\n",
    "for subset in (\"111\", \"110\", \"101\", \"100\", \"011\", \"010\", \"001\"):\n",
    "    diagram.get_label_by_id(subset).set_fontsize(10)\n",
    "\n",
    "venn3_circles(subsets=(l, m, lm, b, lb, mb, mlb))\n",
    "\n",
    "\n",
    "# Universal y fuera de los conjuntos\n",
    "plt.text(0.9, -0.2,      \n",
    "         f\"Universal = {universal}\",\n",
    "         size=10)\n",
    "\n",
    "plt.text(0.90, -0.3,\n",
    "         f\"Fuera de los conjuntos = {ninguno}\",\n",
    "         size=10)\n",
    "\n",
    "# Respondemos las preguntas\n",
    "plt.text(-2, -0.20,\n",
    "         s=\"Respuestas: \",\n",
    "         size=10,\n",
    "         ha=\"left\",  # alineación horizontal\n",
    "         va=\"bottom\",  # alineación vertical\n",
    "         bbox=dict(boxstyle=\"square\",  # tipo de cuadro\n",
    "                   ec=(1.0, 0.7, 0.5),\n",
    "                   fc=(1.0, 0.9, 0.8),))\n",
    "\n",
    "plt.text(-2, -0.30,\n",
    "         s=\"Aprobaron biología matemática y literatura: \" + str(mlb),\n",
    "         size=8,\n",
    "         ha=\"left\",  # alineación horizontal\n",
    "         va=\"bottom\",  # alineación vertical\n",
    "         bbox=dict(boxstyle=\"square\",  # tipo de cuadro\n",
    "                   ec=(1.0, 0.7, 0.5),\n",
    "                   fc=(1.0, 0.9, 0.8),))\n",
    "\n",
    "plt.text(-2, -0.40,\n",
    "         s=\"Aprobaron sólo literatura y matemática: \" + str(lm),\n",
    "         size=8,\n",
    "         ha=\"left\",  # alineación horizontal\n",
    "         va=\"bottom\",  # alineación vertical\n",
    "         bbox=dict(boxstyle=\"square\",  # tipo de cuadro\n",
    "                   ec=(1.0, 0.7, 0.5),\n",
    "                   fc=(1.0, 0.9, 0.8),))\n",
    "\n",
    "plt.text(-2, -0.50,\n",
    "         s=\"Aprobaron solo literatura: \" + str(l),\n",
    "         size=8,\n",
    "         ha=\"left\",  # alineación horizontal\n",
    "         va=\"bottom\",  # alineación vertical\n",
    "         bbox=dict(boxstyle=\"square\",  # tipo de cuadro\n",
    "                   ec=(1.0, 0.7, 0.5),\n",
    "                   fc=(1.0, 0.9, 0.8),))\n",
    "\n",
    "plt.text(-2, -0.60,\n",
    "         s=\"Aprobaron solo biología: \" + str(b),\n",
    "         size=8,\n",
    "         ha=\"left\",  # alineación horizontal\n",
    "         va=\"bottom\",  # alineación vertical\n",
    "         bbox=dict(boxstyle=\"square\",  # tipo de cuadro\n",
    "                   ec=(1.0, 0.7, 0.5),\n",
    "                   fc=(1.0, 0.9, 0.8),))\n",
    "\n",
    "\n",
    "plt.text(-2, -0.70,\n",
    "         s=\"Aprobaron solo matemática: \" + str(m),\n",
    "         size=8,\n",
    "         ha=\"left\",  # alineación horizontal\n",
    "         va=\"bottom\",  # alineación vertical\n",
    "         bbox=dict(boxstyle=\"square\",  # tipo de cuadro\n",
    "                   ec=(1.0, 0.7, 0.5),\n",
    "                   fc=(1.0, 0.9, 0.8),))\n",
    "\n",
    "\n",
    "plt.text(-2, -0.70,\n",
    "         s=\"Aprobaron 2 de 3 exámenes: \" + str(get_total(dos_de_tres)),\n",
    "         size=8,\n",
    "         ha=\"left\",  # alineación horizontal\n",
    "         va=\"bottom\",  # alineación vertical\n",
    "         bbox=dict(boxstyle=\"square\",  # tipo de cuadro\n",
    "                   ec=(1.0, 0.7, 0.5),\n",
    "                   fc=(1.0, 0.9, 0.8),))\n",
    "\n",
    "plt.title(\"Exámenes\",size=30)\n",
    "plt.show()\n"
   ]
  }
 ],
 "metadata": {
  "kernelspec": {
   "display_name": "Python 3 (ipykernel)",
   "language": "python",
   "name": "python3"
  },
  "language_info": {
   "codemirror_mode": {
    "name": "ipython",
    "version": 3
   },
   "file_extension": ".py",
   "mimetype": "text/x-python",
   "name": "python",
   "nbconvert_exporter": "python",
   "pygments_lexer": "ipython3",
   "version": "3.7.9"
  }
 },
 "nbformat": 4,
 "nbformat_minor": 5
}
