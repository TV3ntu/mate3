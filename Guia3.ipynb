{
 "cells": [
  {
   "cell_type": "markdown",
   "id": "b6b49da5",
   "metadata": {},
   "source": [
    "# GUIA 3"
   ]
  },
  {
   "cell_type": "markdown",
   "id": "8b0200d7",
   "metadata": {},
   "source": [
    "### Tuplas"
   ]
  },
  {
   "cell_type": "markdown",
   "id": "9e788caf",
   "metadata": {},
   "source": [
    "-  1.    Crea una tupla con números, pide un numero por teclado e indica cuantas veces se repite."
   ]
  },
  {
   "cell_type": "code",
   "execution_count": 7,
   "id": "0244dceb",
   "metadata": {},
   "outputs": [
    {
     "name": "stdout",
     "output_type": "stream",
     "text": [
      "Escriba un numero: 4\n",
      "Su numero se repite 2 veces en la tupla\n"
     ]
    }
   ],
   "source": [
    "tup = (1,2,3,4,4,5,6,7,8)\n",
    "n = int(input(\"Escriba un numero: \"))\n",
    "print(f'Su numero se repite {tup.count(4)} veces en la tupla')"
   ]
  },
  {
   "cell_type": "markdown",
   "id": "e60b086c",
   "metadata": {},
   "source": [
    "- 2.    Crea una tupla con valores ya predefinidos del 1 al 10, pide un índice por teclado y muestra los valores de la tupla."
   ]
  },
  {
   "cell_type": "code",
   "execution_count": 9,
   "id": "fd5b6732",
   "metadata": {},
   "outputs": [
    {
     "name": "stdout",
     "output_type": "stream",
     "text": [
      "Ingrese un numero del 1 al 10: 3\n",
      "4\n"
     ]
    }
   ],
   "source": [
    "tup = (1,2,3,4,5,6,7,8,9,10)\n",
    "index = int(input('Ingrese un numero del 1 al 10: '))\n",
    "print(tup[index])"
   ]
  },
  {
   "cell_type": "markdown",
   "id": "3d1f2fff",
   "metadata": {},
   "source": [
    "- 3.    Escribir un programa que permita procesar datos de pasajeros de viaje en una lista de tuplas con la siguiente forma: (nombre, dni, destino). Ejemplo:\n",
    "\n",
    "[(\"Manuel Juarez\", 19823451, \"Liverpool\"),\n",
    "\n",
    "(\"Silvana Paredes\", 22709128, \"Buenos Aires\"),\n",
    "\n",
    "(\"Rosa Ortiz\", 15123978, \"Glasgow\"),\n",
    "\n",
    "(\"Luciana Hernandez\", 38981374, \"Lisboa\")]\n",
    "\n",
    "Además, en otra lista de tuplas se almacenan los datos de cada ciudad y el país al que pertenecen. Ejemplo:\n",
    "\n",
    "[(\"Buenos Aires\", \"Argentina\"),\n",
    "\n",
    " (\"Glasgow\", \"Escocia\"),\n",
    " \n",
    " (\"Lisboa\", \"Portugal\"),\n",
    " \n",
    " (\"Londres\", \"Inglaterra\"),\n",
    " \n",
    " (\"Madrid\", \"España\")]\n",
    " \n",
    "Hacer un programa que permita al usuario realizar las siguientes operaciones:\n",
    "   - Agregar pasajeros a la lista de viajeros.\n",
    "   - Agregar ciudades a la lista de ciudades.\n",
    "   - Dado el DNI de un pasajero, emitir a qué ciudad y país viaja.\n",
    "   - Dado un país, mostrar cuántos pasajeros viajan a ese país.\n",
    "   - Salir del programa."
   ]
  },
  {
   "cell_type": "code",
   "execution_count": null,
   "id": "dbb1b329",
   "metadata": {},
   "outputs": [],
   "source": [
    "pasajeros = []\n",
    "destinos = []\n",
    "while True:\n",
    "    print('1- Agregar pasajeros a la lista de viajeros.')\n",
    "    print('2- Agregar ciudades a la lista de ciudades.')\n",
    "    print('3- Dado el DNI de un pasajero, emitir a qué ciudad y país viaja.')\n",
    "    print('4- Dado un país, mostrar cuántos pasajeros viajan a ese país.')\n",
    "    print('5- Salir')\n",
    "    op = int(input())\n",
    "    if op == 5:\n",
    "        break;"
   ]
  },
  {
   "cell_type": "markdown",
   "id": "d540bd05",
   "metadata": {},
   "source": [
    "### Conjuntos"
   ]
  },
  {
   "cell_type": "markdown",
   "id": "49fb6d06",
   "metadata": {},
   "source": [
    "- 1.    Diseña un programa que reciba dos conjuntos y devuelva los elementos comunes a ambas, sin repetir ninguno. Ejemplo: si recibe los conjuntos [1, 2, 1] y [2, 3, 2, 4], devolverá  2"
   ]
  },
  {
   "cell_type": "code",
   "execution_count": 14,
   "id": "1f52df3b",
   "metadata": {},
   "outputs": [
    {
     "name": "stdout",
     "output_type": "stream",
     "text": [
      "[2, 3, 4]\n"
     ]
    }
   ],
   "source": [
    "a = [1,2,3,4]\n",
    "b = [2,3,4]\n",
    "c = [x for x in a if x in b]\n",
    "print(c)"
   ]
  },
  {
   "cell_type": "markdown",
   "id": "0ea69d17",
   "metadata": {},
   "source": [
    "- 2.    Diseña un programa que reciba dos conjuntos y devuelva los elementos que pertenecen a una o a otra, per o sin repetir ninguno.  Ejemplo: si recibe los conjuntos [1, 2, 1] y [2, 3, 2, 4], devolverá el conjunto [1, 2, 3, 4]."
   ]
  },
  {
   "cell_type": "code",
   "execution_count": 18,
   "id": "417a79a9",
   "metadata": {},
   "outputs": [
    {
     "name": "stdout",
     "output_type": "stream",
     "text": [
      "[1, 2, 3, 4]\n"
     ]
    }
   ],
   "source": [
    "a = [1,2,3,4]\n",
    "b = [2,3,4]\n",
    "c = list(set(a + b))\n",
    "print(c)"
   ]
  },
  {
   "cell_type": "markdown",
   "id": "2c4be087",
   "metadata": {},
   "source": [
    "- 3.    Diseña un programa que reciba dos conjuntos y devuelva los elementos que pertenecen al primero pero no al segundo, sin repetir ninguno. Ejemplo: si recibe las listas [1, 2, 1] y [2, 3, 2, 4], devolverá la lista [1]."
   ]
  },
  {
   "cell_type": "code",
   "execution_count": 21,
   "id": "9986bac0",
   "metadata": {},
   "outputs": [
    {
     "name": "stdout",
     "output_type": "stream",
     "text": [
      "[1]\n"
     ]
    }
   ],
   "source": [
    "a = [1,2,3,4]\n",
    "b = [2,3,4]\n",
    "c = [x for x in a if x not in b]\n",
    "print(c)"
   ]
  },
  {
   "cell_type": "markdown",
   "id": "aa98d643",
   "metadata": {},
   "source": [
    "- 4.    Diseña un programa que facilite el trabajo con conjuntos. Recuerda que un conjunto es una lista en la que no hay elementos repetidos. Debes implementar:\n",
    "     - lista_a_conjunto(lista): Devuelve un conjunto con los mismos elementos que hay en lista, pero sin repeticiones.(Ejemplo: lista_a_conjunto([1,1,3,2,3]) devolverá la lista [1, 2, 3] (aunque también se acepta como equivalente cualquier permutación de esos mismos elementos, como [3,1,2] o [3,2,1]).\n",
    "    - union(A, B): devuelve el conjunto resultante de unir los conjuntos A y B.\n",
    "    - interseccion(A, B): devuelve el conjunto cuyos elementos pertenecen a A y a B.\n",
    "    - diferencia(A, B): devuelve el conjunto de elementos que pertenecen a A y no a B.\n",
    "    - iguales(A, B): devuelve cierto si ambos conjuntos tienen los mismos elementos, y falso en caso contrario."
   ]
  },
  {
   "cell_type": "code",
   "execution_count": 28,
   "id": "f72e1bdb",
   "metadata": {},
   "outputs": [
    {
     "name": "stdout",
     "output_type": "stream",
     "text": [
      "False\n"
     ]
    }
   ],
   "source": [
    "a = set([1,2,3,4])\n",
    "b = set([2,3,4])\n",
    "c = a == b\n",
    "print(c)"
   ]
  },
  {
   "cell_type": "markdown",
   "id": "0c70a1eb",
   "metadata": {},
   "source": [
    "### Diccionarios"
   ]
  },
  {
   "cell_type": "markdown",
   "id": "b260d593",
   "metadata": {},
   "source": [
    "- 1. Crea un diccionario donde la clave sea el nombre del usuario y el valor sea el teléfono (no es necesario validar). Tendrás que ir pidiendo contactos hasta el usuario diga que no quiere insertar más. No se podrán ingresar nombres repetidos."
   ]
  },
  {
   "cell_type": "code",
   "execution_count": 35,
   "id": "0dde72d6",
   "metadata": {},
   "outputs": [
    {
     "name": "stdout",
     "output_type": "stream",
     "text": [
      "Ingrese un nombre: asd\n",
      "Ingrese el telefono de asd: 123\n",
      "Continuar? s/ns\n",
      "Ingrese un nombre: sdf\n",
      "Ingrese el telefono de sdf: 456\n",
      "Continuar? s/nn\n",
      "{'asd': '123', 'sdf': '456'}\n"
     ]
    }
   ],
   "source": [
    "contactos = {}\n",
    "continuar_ingresando = True\n",
    "while continuar_ingresando:\n",
    "    nombre = input(\"Ingrese un nombre: \")\n",
    "    tel = input(f\"Ingrese el telefono de {nombre}: \")\n",
    "    contactos[nombre] = tel\n",
    "    cont = input('Continuar? s/n')\n",
    "    if cont.upper() == 'N':\n",
    "        break;\n",
    "print(contactos)"
   ]
  },
  {
   "cell_type": "markdown",
   "id": "412ef847",
   "metadata": {},
   "source": [
    "- 2.    Crear un programa donde vamos a declarar un diccionario para guardar  los precios de las distintas frutas. El programa pedirá el nombre de la fruta  y la cantidad que se ha vendido y nos mostrará el precio final de la fruta a partir de los datos guardados en el diccionario. Si la fruta no existe nos dará un error. Tras cada consulta el programa nos preguntará si queremos hacer otra consulta."
   ]
  },
  {
   "cell_type": "code",
   "execution_count": 39,
   "id": "57d0f950",
   "metadata": {},
   "outputs": [
    {
     "name": "stdout",
     "output_type": "stream",
     "text": [
      "Que fruta? manzana\n",
      "Que cantidad? 5\n",
      "5\n",
      "Continuar? s/ns\n",
      "Que fruta? asd\n",
      "Que cantidad? 2\n",
      "Esa fruta no esta en la base de datos\n"
     ]
    },
    {
     "ename": "KeyboardInterrupt",
     "evalue": "Interrupted by user",
     "output_type": "error",
     "traceback": [
      "\u001b[0;31m---------------------------------------------------------------------------\u001b[0m",
      "\u001b[0;31mKeyboardInterrupt\u001b[0m                         Traceback (most recent call last)",
      "\u001b[0;32m/var/folders/f_/367rs5z90kd_g2md67x3tfr5s8crz3/T/ipykernel_654/3712025984.py\u001b[0m in \u001b[0;36m<module>\u001b[0;34m\u001b[0m\n\u001b[1;32m      7\u001b[0m     \u001b[0;32mexcept\u001b[0m\u001b[0;34m:\u001b[0m\u001b[0;34m\u001b[0m\u001b[0;34m\u001b[0m\u001b[0m\n\u001b[1;32m      8\u001b[0m         \u001b[0mprint\u001b[0m\u001b[0;34m(\u001b[0m\u001b[0;34m'Esa fruta no esta en la base de datos'\u001b[0m\u001b[0;34m)\u001b[0m\u001b[0;34m\u001b[0m\u001b[0;34m\u001b[0m\u001b[0m\n\u001b[0;32m----> 9\u001b[0;31m     \u001b[0mcont\u001b[0m \u001b[0;34m=\u001b[0m \u001b[0minput\u001b[0m\u001b[0;34m(\u001b[0m\u001b[0;34m'Continuar? s/n'\u001b[0m\u001b[0;34m)\u001b[0m\u001b[0;34m\u001b[0m\u001b[0;34m\u001b[0m\u001b[0m\n\u001b[0m\u001b[1;32m     10\u001b[0m     \u001b[0;32mif\u001b[0m \u001b[0mcont\u001b[0m\u001b[0;34m.\u001b[0m\u001b[0mupper\u001b[0m\u001b[0;34m(\u001b[0m\u001b[0;34m)\u001b[0m \u001b[0;34m==\u001b[0m \u001b[0;34m'N'\u001b[0m\u001b[0;34m:\u001b[0m\u001b[0;34m\u001b[0m\u001b[0;34m\u001b[0m\u001b[0m\n\u001b[1;32m     11\u001b[0m         \u001b[0;32mbreak\u001b[0m\u001b[0;34m;\u001b[0m\u001b[0;34m\u001b[0m\u001b[0;34m\u001b[0m\u001b[0m\n",
      "\u001b[0;32m~/.pyenv/versions/3.7.9/lib/python3.7/site-packages/ipykernel/kernelbase.py\u001b[0m in \u001b[0;36mraw_input\u001b[0;34m(self, prompt)\u001b[0m\n\u001b[1;32m   1179\u001b[0m             \u001b[0mself\u001b[0m\u001b[0;34m.\u001b[0m\u001b[0m_parent_ident\u001b[0m\u001b[0;34m[\u001b[0m\u001b[0;34m\"shell\"\u001b[0m\u001b[0;34m]\u001b[0m\u001b[0;34m,\u001b[0m\u001b[0;34m\u001b[0m\u001b[0;34m\u001b[0m\u001b[0m\n\u001b[1;32m   1180\u001b[0m             \u001b[0mself\u001b[0m\u001b[0;34m.\u001b[0m\u001b[0mget_parent\u001b[0m\u001b[0;34m(\u001b[0m\u001b[0;34m\"shell\"\u001b[0m\u001b[0;34m)\u001b[0m\u001b[0;34m,\u001b[0m\u001b[0;34m\u001b[0m\u001b[0;34m\u001b[0m\u001b[0m\n\u001b[0;32m-> 1181\u001b[0;31m             \u001b[0mpassword\u001b[0m\u001b[0;34m=\u001b[0m\u001b[0;32mFalse\u001b[0m\u001b[0;34m,\u001b[0m\u001b[0;34m\u001b[0m\u001b[0;34m\u001b[0m\u001b[0m\n\u001b[0m\u001b[1;32m   1182\u001b[0m         )\n\u001b[1;32m   1183\u001b[0m \u001b[0;34m\u001b[0m\u001b[0m\n",
      "\u001b[0;32m~/.pyenv/versions/3.7.9/lib/python3.7/site-packages/ipykernel/kernelbase.py\u001b[0m in \u001b[0;36m_input_request\u001b[0;34m(self, prompt, ident, parent, password)\u001b[0m\n\u001b[1;32m   1217\u001b[0m             \u001b[0;32mexcept\u001b[0m \u001b[0mKeyboardInterrupt\u001b[0m\u001b[0;34m:\u001b[0m\u001b[0;34m\u001b[0m\u001b[0;34m\u001b[0m\u001b[0m\n\u001b[1;32m   1218\u001b[0m                 \u001b[0;31m# re-raise KeyboardInterrupt, to truncate traceback\u001b[0m\u001b[0;34m\u001b[0m\u001b[0;34m\u001b[0m\u001b[0;34m\u001b[0m\u001b[0m\n\u001b[0;32m-> 1219\u001b[0;31m                 \u001b[0;32mraise\u001b[0m \u001b[0mKeyboardInterrupt\u001b[0m\u001b[0;34m(\u001b[0m\u001b[0;34m\"Interrupted by user\"\u001b[0m\u001b[0;34m)\u001b[0m \u001b[0;32mfrom\u001b[0m \u001b[0;32mNone\u001b[0m\u001b[0;34m\u001b[0m\u001b[0;34m\u001b[0m\u001b[0m\n\u001b[0m\u001b[1;32m   1220\u001b[0m             \u001b[0;32mexcept\u001b[0m \u001b[0mException\u001b[0m\u001b[0;34m:\u001b[0m\u001b[0;34m\u001b[0m\u001b[0;34m\u001b[0m\u001b[0m\n\u001b[1;32m   1221\u001b[0m                 \u001b[0mself\u001b[0m\u001b[0;34m.\u001b[0m\u001b[0mlog\u001b[0m\u001b[0;34m.\u001b[0m\u001b[0mwarning\u001b[0m\u001b[0;34m(\u001b[0m\u001b[0;34m\"Invalid Message:\"\u001b[0m\u001b[0;34m,\u001b[0m \u001b[0mexc_info\u001b[0m\u001b[0;34m=\u001b[0m\u001b[0;32mTrue\u001b[0m\u001b[0;34m)\u001b[0m\u001b[0;34m\u001b[0m\u001b[0;34m\u001b[0m\u001b[0m\n",
      "\u001b[0;31mKeyboardInterrupt\u001b[0m: Interrupted by user"
     ]
    }
   ],
   "source": [
    "frutas = {'manzana':1,'pera':2}\n",
    "while continuar_ingresando:\n",
    "    fruta = input('Que fruta? ')\n",
    "    cantidad = input('Que cantidad? ')\n",
    "    try:\n",
    "        print(frutas[fruta]*cantidad)\n",
    "    except:\n",
    "        print('Esa fruta no esta en la base de datos')\n",
    "    cont = input('Continuar? s/n')\n",
    "    if cont.upper() == 'N':\n",
    "        break;"
   ]
  },
  {
   "cell_type": "markdown",
   "id": "2db798bf",
   "metadata": {},
   "source": [
    "- 3.    Codifica un programa que permita guardar los nombres de alumnos de una clase y las notas que han obtenido. Cada alumno puede tener distinta cantidad de notas. Guarda la información en un diccionario cuya claves serán los nombres de los alumnos y los valores serán listas con las notas de cada alumno. El programa pedirá el número de alumnos que vamos a introducir, pedirá su nombre e irá pidiendo sus notas hasta que introduzcamos un número negativo. Al final el programa nos mostrará la lista de alumnos y la nota media obtenida por cada uno de ellos. Nota: si se introduce el nombre de un alumno que ya existe el programa nos dará un error."
   ]
  },
  {
   "cell_type": "code",
   "execution_count": 55,
   "id": "b60eb93b",
   "metadata": {},
   "outputs": [
    {
     "name": "stdout",
     "output_type": "stream",
     "text": [
      "Ingrese un alumno: juan\n",
      "Ingrese una nota para juan (finaliza con una nota negativa): 4\n",
      "Ingrese una nota para juan (finaliza con una nota negativa): 3\n",
      "Ingrese una nota para juan (finaliza con una nota negativa): -2\n",
      "Continuar? s/n: s\n",
      "Ingrese un alumno: pedro\n",
      "Ingrese una nota para pedro (finaliza con una nota negativa): 10\n",
      "Ingrese una nota para pedro (finaliza con una nota negativa): 5\n",
      "Ingrese una nota para pedro (finaliza con una nota negativa): -2\n",
      "Continuar? s/n: s\n",
      "Ingrese un alumno: juan\n",
      "juan ya se encuentra en la lista de alumnos\n",
      "Continuar? s/n: n\n",
      "{'juan': [4, 3], 'pedro': [10, 5]}\n",
      "Alumno: juan    Promedio: 3.5\n",
      "Alumno: pedro    Promedio: 7.5\n"
     ]
    }
   ],
   "source": [
    "alumnos = {}\n",
    "while continuar_ingresando:\n",
    "    alumno = input('Ingrese un alumno: ')\n",
    "    if alumno in alumnos:\n",
    "        print(f'{alumno} ya se encuentra en la lista de alumnos')\n",
    "    else:    \n",
    "        alumnos[alumno] = []\n",
    "        nota = int(input(f'Ingrese una nota para {alumno} (finaliza con una nota negativa): '))\n",
    "        while nota >= 0:\n",
    "            alumnos[alumno].append(nota)\n",
    "            nota = int(input(f'Ingrese una nota para {alumno} (finaliza con una nota negativa): '))\n",
    "    cont = input('Continuar? s/n: ')\n",
    "    if cont.upper() == 'N':\n",
    "        break;\n",
    "print(alumnos)\n",
    "for alumno in alumnos:\n",
    "    promedio = sum(alumnos[alumno]) / len(alumnos[alumno])\n",
    "    print(f'Alumno: {alumno}    Promedio: {promedio}')"
   ]
  },
  {
   "cell_type": "markdown",
   "id": "adfd1f58",
   "metadata": {},
   "source": [
    "### Archivos"
   ]
  },
  {
   "cell_type": "markdown",
   "id": "0131dfa5",
   "metadata": {},
   "source": [
    "- 1. Codifica un programa que reciba un archivo de texto y emita las primeras N líneas del archivo. Las N líneas deben ser ingresadas por teclado.\n"
   ]
  },
  {
   "cell_type": "code",
   "execution_count": 59,
   "id": "96882c30",
   "metadata": {},
   "outputs": [
    {
     "name": "stdout",
     "output_type": "stream",
     "text": [
      "cuantas lineas desea leer? 2\n",
      "asdasdasdasd\n",
      "\n",
      "Sdfsdfsdf\n",
      "\n"
     ]
    }
   ],
   "source": [
    "n = int(input('cuantas lineas desea leer? '))\n",
    "with open('prueba.txt','r') as prueba:\n",
    "    for line in range(n):\n",
    "        print(prueba.readline())"
   ]
  },
  {
   "cell_type": "markdown",
   "id": "8d485ffa",
   "metadata": {},
   "source": [
    "- 2. Codifica un programa que copie el contenido de un archivo (sea de texto o binario) a otro, de modo que que de exactamente igual."
   ]
  },
  {
   "cell_type": "code",
   "execution_count": 60,
   "id": "327f930b",
   "metadata": {},
   "outputs": [
    {
     "data": {
      "text/plain": [
       "'prueba2.txt'"
      ]
     },
     "execution_count": 60,
     "metadata": {},
     "output_type": "execute_result"
    }
   ],
   "source": [
    "import shutil\n",
    "shutil.copy('prueba.txt','prueba2.txt')"
   ]
  },
  {
   "cell_type": "markdown",
   "id": "5cf89776",
   "metadata": {},
   "source": [
    "- 3. Codifica un programa que escriba en un archivo los siguientes datos: \"Nombre\",\"Apellido\",\"Telefono\",\"Cumpleaños\""
   ]
  },
  {
   "cell_type": "code",
   "execution_count": 65,
   "id": "17cf81d1",
   "metadata": {},
   "outputs": [
    {
     "name": "stdout",
     "output_type": "stream",
     "text": [
      "Nombre: asd\n",
      "Apellido: asd\n",
      "Telefono: 345\n",
      "Cumpleaños: 356\n"
     ]
    }
   ],
   "source": [
    "with open('prueba3.txt','w') as archivo:\n",
    "    nombre = input('Nombre: ')\n",
    "    apellido = input('Apellido: ')\n",
    "    telefono = input('Telefono: ')\n",
    "    cumpleaños = input('Cumpleaños: ')\n",
    "    archivo.write(f'{nombre},{apellido},{telefono},{cumpleaños}')"
   ]
  },
  {
   "cell_type": "markdown",
   "id": "8eb3e352",
   "metadata": {},
   "source": [
    "- 4. Codifica un programa que reciba un archivo, lo procese e imprima por pantalla cuántas líneas, cuantas palabras y cuántos caracteres contiene el archivo."
   ]
  },
  {
   "cell_type": "code",
   "execution_count": 69,
   "id": "9eaedbc6",
   "metadata": {},
   "outputs": [
    {
     "name": "stdout",
     "output_type": "stream",
     "text": [
      "Total de lineas: 10\n",
      "Total de palabras: 10\n",
      "Total de caracteres: 84\n"
     ]
    }
   ],
   "source": [
    "with open('prueba.txt','r') as prueba:\n",
    "    sum_lines = 0\n",
    "    sum_words = 0\n",
    "    sum_char = 0\n",
    "    for line in prueba:\n",
    "        sum_lines += 1\n",
    "        list_line = line.split()\n",
    "        sum_words += len(list_line)\n",
    "        for word in list_line:\n",
    "            sum_char += len(word)\n",
    "print(f'Total de lineas: {sum_lines}')\n",
    "print(f'Total de palabras: {sum_words}')\n",
    "print(f'Total de caracteres: {sum_char}')"
   ]
  },
  {
   "cell_type": "code",
   "execution_count": null,
   "id": "bad0182d",
   "metadata": {},
   "outputs": [],
   "source": []
  }
 ],
 "metadata": {
  "kernelspec": {
   "display_name": "Python 3 (ipykernel)",
   "language": "python",
   "name": "python3"
  },
  "language_info": {
   "codemirror_mode": {
    "name": "ipython",
    "version": 3
   },
   "file_extension": ".py",
   "mimetype": "text/x-python",
   "name": "python",
   "nbconvert_exporter": "python",
   "pygments_lexer": "ipython3",
   "version": "3.7.9"
  }
 },
 "nbformat": 4,
 "nbformat_minor": 5
}
