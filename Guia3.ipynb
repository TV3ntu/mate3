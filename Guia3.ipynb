{
 "cells": [
  {
   "cell_type": "markdown",
   "id": "e1f4d7aa",
   "metadata": {},
   "source": [
    "# GUIA 3"
   ]
  },
  {
   "cell_type": "markdown",
   "id": "68b20e69",
   "metadata": {},
   "source": [
    "### Tuplas"
   ]
  },
  {
   "cell_type": "markdown",
   "id": "63cc3c06",
   "metadata": {},
   "source": [
    "-  1.    Crea una tupla con números, pide un numero por teclado e indica cuantas veces se repite."
   ]
  },
  {
   "cell_type": "code",
   "execution_count": 3,
   "id": "42b13015",
   "metadata": {},
   "outputs": [],
   "source": [
    "tup = (1,2,3,4,4,5,6,7,8)\n",
    "n = int(input(\"Escriba un numero: \"))\n",
    "print('Su numero se repite', tup.count(4), 'veces')"
   ]
  },
  {
   "cell_type": "markdown",
   "id": "a2e31004",
   "metadata": {},
   "source": [
    "- 2.    Crea una tupla con valores ya predefinidos del 1 al 10, pide un índice por teclado y muestra los valores de la tupla."
   ]
  },
  {
   "cell_type": "code",
   "execution_count": null,
   "id": "981e5292",
   "metadata": {},
   "outputs": [],
   "source": []
  },
  {
   "cell_type": "markdown",
   "id": "d27ef2ed",
   "metadata": {},
   "source": [
    "- 3.    Escribir un programa que permita procesar datos de pasajeros de viaje en una lista de tuplas con la siguiente forma: (nombre, dni, destino). Ejemplo:\n",
    "\n",
    "[(\"Manuel Juarez\", 19823451, \"Liverpool\"),\n",
    "\n",
    "(\"Silvana Paredes\", 22709128, \"Buenos Aires\"),\n",
    "\n",
    "(\"Rosa Ortiz\", 15123978, \"Glasgow\"),\n",
    "\n",
    "(\"Luciana Hernandez\", 38981374, \"Lisboa\")]\n",
    "\n",
    "Además, en otra lista de tuplas se almacenan los datos de cada ciudad y el país al que pertenecen. Ejemplo:\n",
    "\n",
    "[(\"Buenos Aires\", \"Argentina\"),\n",
    "\n",
    " (\"Glasgow\", \"Escocia\"),\n",
    " \n",
    " (\"Lisboa\", \"Portugal\"),\n",
    " \n",
    " (\"Londres\", \"Inglaterra\"),\n",
    " \n",
    " (\"Madrid\", \"España\")]\n",
    " \n",
    "Hacer un programa que permita al usuario realizar las siguientes operaciones:\n",
    "   - Agregar pasajeros a la lista de viajeros.\n",
    "   - Agregar ciudades a la lista de ciudades.\n",
    "   - Dado el DNI de un pasajero, emitir a qué ciudad y país viaja.\n",
    "   - Dado un país, mostrar cuántos pasajeros viajan a ese país.\n",
    "   - Salir del programa."
   ]
  },
  {
   "cell_type": "code",
   "execution_count": null,
   "id": "d741cfb2",
   "metadata": {},
   "outputs": [],
   "source": []
  },
  {
   "cell_type": "markdown",
   "id": "a9c62a91",
   "metadata": {},
   "source": [
    "### Conjuntos"
   ]
  },
  {
   "cell_type": "markdown",
   "id": "acfa7c87",
   "metadata": {},
   "source": [
    "- 1.    Diseña un programa que reciba dos conjuntos y devuelva los elementos comunes a ambas, sin repetir ninguno. Ejemplo: si recibe los conjuntos [1, 2, 1] y [2, 3, 2, 4], devolverá  2"
   ]
  },
  {
   "cell_type": "code",
   "execution_count": null,
   "id": "a5d44145",
   "metadata": {},
   "outputs": [],
   "source": []
  },
  {
   "cell_type": "markdown",
   "id": "2634c543",
   "metadata": {},
   "source": [
    "- 2.    Diseña un programa que reciba dos conjuntos y devuelva los elementos que pertenecen a una o a otra, per o sin repetir ninguno.  Ejemplo: si recibe los conjuntos [1, 2, 1] y [2, 3, 2, 4], devolverá el conjunto [1, 2, 3, 4]."
   ]
  },
  {
   "cell_type": "code",
   "execution_count": null,
   "id": "f21cf180",
   "metadata": {},
   "outputs": [],
   "source": []
  },
  {
   "cell_type": "markdown",
   "id": "6394e456",
   "metadata": {},
   "source": [
    "- 3.    Diseña un programa que reciba dos conjuntos y devuelva los elementos que pertenecen al primero pero no al segundo, sin repetir ninguno. Ejemplo: si recibe las listas [1, 2, 1] y [2, 3, 2, 4], devolverá la lista [1]."
   ]
  },
  {
   "cell_type": "code",
   "execution_count": null,
   "id": "3708ec7a",
   "metadata": {},
   "outputs": [],
   "source": []
  },
  {
   "cell_type": "markdown",
   "id": "61d79e9f",
   "metadata": {},
   "source": [
    "- 4.    Diseña un programa que facilite el trabajo con conjuntos. Recuerda que un conjunto es una lista en la que no hay elementos repetidos. Debes implementar:\n",
    "     - lista_a_conjunto(lista): Devuelve un conjunto con los mismos elementos que hay en lista, pero sin repeticiones.(Ejemplo: lista_a_conjunto([1,1,3,2,3]) devolverá la lista [1, 2, 3] (aunque también se acepta como equivalente cualquier permutación de esos mismos elementos, como [3,1,2] o [3,2,1]).\n",
    "    - union(A, B): devuelve el conjunto resultante de unir los conjuntos A y B.\n",
    "    - interseccion(A, B): devuelve el conjunto cuyos elementos pertenecen a A y a B.\n",
    "    - diferencia(A, B): devuelve el conjunto de elementos que pertenecen a A y no a B.\n",
    "    - iguales(A, B): devuelve cierto si ambos conjuntos tienen los mismos elementos, y falso en caso contrario."
   ]
  },
  {
   "cell_type": "code",
   "execution_count": null,
   "id": "005745e4",
   "metadata": {},
   "outputs": [],
   "source": []
  },
  {
   "cell_type": "markdown",
   "id": "836b067d",
   "metadata": {},
   "source": [
    "### Diccionarios"
   ]
  },
  {
   "cell_type": "markdown",
   "id": "6d27f729",
   "metadata": {},
   "source": [
    "- 1. Crea un diccionario donde la clave sea el nombre del usuario y el valor sea el teléfono (no es necesario validar). Tendrás que ir pidiendo contactos hasta el usuario diga que no quiere insertar más. No se podrán ingresar nombres repetidos."
   ]
  },
  {
   "cell_type": "code",
   "execution_count": null,
   "id": "f56a50bf",
   "metadata": {},
   "outputs": [],
   "source": []
  },
  {
   "cell_type": "markdown",
   "id": "b71edc6c",
   "metadata": {},
   "source": [
    "- 2.    Crear un programa donde vamos a declarar un diccionario para guardar  los precios de las distintas frutas. El programa pedirá el nombre de la fruta  y la cantidad que se ha vendido y nos mostrará el precio final de la fruta a partir de los datos guardados en el diccionario. Si la fruta no existe nos dará un error. Tras cada consulta el programa nos preguntará si queremos hacer otra consulta."
   ]
  },
  {
   "cell_type": "code",
   "execution_count": null,
   "id": "e187b8fe",
   "metadata": {},
   "outputs": [],
   "source": []
  },
  {
   "cell_type": "markdown",
   "id": "6bd21171",
   "metadata": {},
   "source": [
    "- 3.    Codifica un programa que permita guardar los nombres de alumnos de una clase y las notas que han obtenido. Cada alumno puede tener distinta cantidad de notas. Guarda la información en un diccionario cuya claves serán los nombres de los alumnos y los valores serán listas con las notas de cada alumno. El programa pedirá el número de alumnos que vamos a introducir, pedirá su nombre e irá pidiendo sus notas hasta que introduzcamos un número negativo. Al final el programa nos mostrará la lista de alumnos y la nota media obtenida por cada uno de ellos. Nota: si se introduce el nombre de un alumno que ya existe el programa nos dará un error."
   ]
  },
  {
   "cell_type": "code",
   "execution_count": null,
   "id": "d5f70992",
   "metadata": {},
   "outputs": [],
   "source": []
  },
  {
   "cell_type": "markdown",
   "id": "3d5981a8",
   "metadata": {},
   "source": [
    "### Archivos"
   ]
  },
  {
   "cell_type": "markdown",
   "id": "a7c33ca5",
   "metadata": {},
   "source": [
    "- 1. Codifica un programa que reciba un archivo de texto y emita las primeras N líneas del archivo. Las N líneas deben ser ingresadas por teclado.\n"
   ]
  },
  {
   "cell_type": "code",
   "execution_count": null,
   "id": "83ec14f2",
   "metadata": {},
   "outputs": [],
   "source": []
  },
  {
   "cell_type": "markdown",
   "id": "2d39ce93",
   "metadata": {},
   "source": [
    "- 2. Codifica un programa que copie el contenido de un archivo (sea de texto o binario) a otro, de modo que que de exactamente igual."
   ]
  },
  {
   "cell_type": "code",
   "execution_count": null,
   "id": "06704cb7",
   "metadata": {},
   "outputs": [],
   "source": []
  },
  {
   "cell_type": "markdown",
   "id": "4fff5880",
   "metadata": {},
   "source": [
    "- 3. Codifica un programa que escriba en un archivo los siguientes datos: \"Nombre\",\"Apellido\",\"Telefono\",\"Cumpleaños\""
   ]
  },
  {
   "cell_type": "code",
   "execution_count": null,
   "id": "6393dbec",
   "metadata": {},
   "outputs": [],
   "source": []
  },
  {
   "cell_type": "markdown",
   "id": "e16ac416",
   "metadata": {},
   "source": [
    "- 4. Codifica un programa que reciba un archivo, lo procese e imprima por pantalla cuántas líneas, cuantas palabras y cuántos caracteres contiene el archivo."
   ]
  },
  {
   "cell_type": "code",
   "execution_count": null,
   "id": "5dc33fd0",
   "metadata": {},
   "outputs": [],
   "source": []
  }
 ],
 "metadata": {
  "kernelspec": {
   "display_name": "Python 3 (ipykernel)",
   "language": "python",
   "name": "python3"
  },
  "language_info": {
   "codemirror_mode": {
    "name": "ipython",
    "version": 3
   },
   "file_extension": ".py",
   "mimetype": "text/x-python",
   "name": "python",
   "nbconvert_exporter": "python",
   "pygments_lexer": "ipython3",
   "version": "3.7.9"
  }
 },
 "nbformat": 4,
 "nbformat_minor": 5
}
