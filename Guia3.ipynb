{
 "cells": [
  {
   "cell_type": "markdown",
   "id": "b5b0384a",
   "metadata": {},
   "source": [
    "# GUIA 3"
   ]
  },
  {
   "cell_type": "markdown",
   "id": "ea916ed7",
   "metadata": {},
   "source": [
    "### Tuplas"
   ]
  },
  {
   "cell_type": "markdown",
   "id": "41c4a2bf",
   "metadata": {},
   "source": [
    "-  1.    Crea una tupla con números, pide un numero por teclado e indica cuantas veces se repite."
   ]
  },
  {
   "cell_type": "code",
   "execution_count": 7,
   "id": "8939f4ac",
   "metadata": {},
   "outputs": [
    {
     "name": "stdout",
     "output_type": "stream",
     "text": [
      "Escriba un numero: 4\n",
      "Su numero se repite 2 veces en la tupla\n"
     ]
    }
   ],
   "source": [
    "tup = (1,2,3,4,4,5,6,7,8)\n",
    "n = int(input(\"Escriba un numero: \"))\n",
    "print(f'Su numero se repite {tup.count(4)} veces en la tupla')"
   ]
  },
  {
   "cell_type": "markdown",
   "id": "240e90e9",
   "metadata": {},
   "source": [
    "- 2.    Crea una tupla con valores ya predefinidos del 1 al 10, pide un índice por teclado y muestra los valores de la tupla."
   ]
  },
  {
   "cell_type": "code",
   "execution_count": 9,
   "id": "8cd82dd5",
   "metadata": {},
   "outputs": [
    {
     "name": "stdout",
     "output_type": "stream",
     "text": [
      "Ingrese un numero del 1 al 10: 3\n",
      "4\n"
     ]
    }
   ],
   "source": [
    "tup = (1,2,3,4,5,6,7,8,9,10)\n",
    "index = int(input('Ingrese un numero del 1 al 10: '))\n",
    "print(tup[index])"
   ]
  },
  {
   "cell_type": "markdown",
   "id": "45cbb600",
   "metadata": {},
   "source": [
    "- 3.    Escribir un programa que permita procesar datos de pasajeros de viaje en una lista de tuplas con la siguiente forma: (nombre, dni, destino). Ejemplo:\n",
    "\n",
    "[(\"Manuel Juarez\", 19823451, \"Liverpool\"),\n",
    "\n",
    "(\"Silvana Paredes\", 22709128, \"Buenos Aires\"),\n",
    "\n",
    "(\"Rosa Ortiz\", 15123978, \"Glasgow\"),\n",
    "\n",
    "(\"Luciana Hernandez\", 38981374, \"Lisboa\")]\n",
    "\n",
    "Además, en otra lista de tuplas se almacenan los datos de cada ciudad y el país al que pertenecen. Ejemplo:\n",
    "\n",
    "[(\"Buenos Aires\", \"Argentina\"),\n",
    "\n",
    " (\"Glasgow\", \"Escocia\"),\n",
    " \n",
    " (\"Lisboa\", \"Portugal\"),\n",
    " \n",
    " (\"Londres\", \"Inglaterra\"),\n",
    " \n",
    " (\"Madrid\", \"España\")]\n",
    " \n",
    "Hacer un programa que permita al usuario realizar las siguientes operaciones:\n",
    "   - Agregar pasajeros a la lista de viajeros.\n",
    "   - Agregar ciudades a la lista de ciudades.\n",
    "   - Dado el DNI de un pasajero, emitir a qué ciudad y país viaja.\n",
    "   - Dado un país, mostrar cuántos pasajeros viajan a ese país.\n",
    "   - Salir del programa."
   ]
  },
  {
   "cell_type": "code",
   "execution_count": null,
   "id": "33a66fc7",
   "metadata": {},
   "outputs": [],
   "source": [
    "pasajeros = []\n",
    "destinos = []\n",
    "while True:\n",
    "    print('1- Agregar pasajeros a la lista de viajeros.')\n",
    "    print('2- Agregar ciudades a la lista de ciudades.')\n",
    "    print('3- Dado el DNI de un pasajero, emitir a qué ciudad y país viaja.')\n",
    "    print('4- Dado un país, mostrar cuántos pasajeros viajan a ese país.')\n",
    "    print('5- Salir')\n",
    "    op = int(input())\n",
    "    if op == 5:\n",
    "        break;"
   ]
  },
  {
   "cell_type": "markdown",
   "id": "8628c552",
   "metadata": {},
   "source": [
    "### Conjuntos"
   ]
  },
  {
   "cell_type": "markdown",
   "id": "b9d0af82",
   "metadata": {},
   "source": [
    "- 1.    Diseña un programa que reciba dos conjuntos y devuelva los elementos comunes a ambas, sin repetir ninguno. Ejemplo: si recibe los conjuntos [1, 2, 1] y [2, 3, 2, 4], devolverá  2"
   ]
  },
  {
   "cell_type": "code",
   "execution_count": 14,
   "id": "ba52e211",
   "metadata": {},
   "outputs": [
    {
     "name": "stdout",
     "output_type": "stream",
     "text": [
      "[2, 3, 4]\n"
     ]
    }
   ],
   "source": [
    "a = [1,2,3,4]\n",
    "b = [2,3,4]\n",
    "c = [x for x in a if x in b]\n",
    "print(c)"
   ]
  },
  {
   "cell_type": "markdown",
   "id": "6d272584",
   "metadata": {},
   "source": [
    "- 2.    Diseña un programa que reciba dos conjuntos y devuelva los elementos que pertenecen a una o a otra, per o sin repetir ninguno.  Ejemplo: si recibe los conjuntos [1, 2, 1] y [2, 3, 2, 4], devolverá el conjunto [1, 2, 3, 4]."
   ]
  },
  {
   "cell_type": "code",
   "execution_count": 18,
   "id": "492148e9",
   "metadata": {},
   "outputs": [
    {
     "name": "stdout",
     "output_type": "stream",
     "text": [
      "[1, 2, 3, 4]\n"
     ]
    }
   ],
   "source": [
    "a = [1,2,3,4]\n",
    "b = [2,3,4]\n",
    "c = list(set(a + b))\n",
    "print(c)"
   ]
  },
  {
   "cell_type": "markdown",
   "id": "ccba06c9",
   "metadata": {},
   "source": [
    "- 3.    Diseña un programa que reciba dos conjuntos y devuelva los elementos que pertenecen al primero pero no al segundo, sin repetir ninguno. Ejemplo: si recibe las listas [1, 2, 1] y [2, 3, 2, 4], devolverá la lista [1]."
   ]
  },
  {
   "cell_type": "code",
   "execution_count": 21,
   "id": "1b756b84",
   "metadata": {},
   "outputs": [
    {
     "name": "stdout",
     "output_type": "stream",
     "text": [
      "[1]\n"
     ]
    }
   ],
   "source": [
    "a = [1,2,3,4]\n",
    "b = [2,3,4]\n",
    "c = [x for x in a if x not in b]\n",
    "print(c)"
   ]
  },
  {
   "cell_type": "markdown",
   "id": "2c800a1f",
   "metadata": {},
   "source": [
    "- 4.    Diseña un programa que facilite el trabajo con conjuntos. Recuerda que un conjunto es una lista en la que no hay elementos repetidos. Debes implementar:\n",
    "     - lista_a_conjunto(lista): Devuelve un conjunto con los mismos elementos que hay en lista, pero sin repeticiones.(Ejemplo: lista_a_conjunto([1,1,3,2,3]) devolverá la lista [1, 2, 3] (aunque también se acepta como equivalente cualquier permutación de esos mismos elementos, como [3,1,2] o [3,2,1]).\n",
    "    - union(A, B): devuelve el conjunto resultante de unir los conjuntos A y B.\n",
    "    - interseccion(A, B): devuelve el conjunto cuyos elementos pertenecen a A y a B.\n",
    "    - diferencia(A, B): devuelve el conjunto de elementos que pertenecen a A y no a B.\n",
    "    - iguales(A, B): devuelve cierto si ambos conjuntos tienen los mismos elementos, y falso en caso contrario."
   ]
  },
  {
   "cell_type": "code",
   "execution_count": 28,
   "id": "b998734e",
   "metadata": {},
   "outputs": [
    {
     "name": "stdout",
     "output_type": "stream",
     "text": [
      "False\n"
     ]
    }
   ],
   "source": [
    "a = set([1,2,3,4])\n",
    "b = set([2,3,4])\n",
    "c = a == b\n",
    "print(c)"
   ]
  },
  {
   "cell_type": "markdown",
   "id": "68edbdbd",
   "metadata": {},
   "source": [
    "### Diccionarios"
   ]
  },
  {
   "cell_type": "markdown",
   "id": "15957736",
   "metadata": {},
   "source": [
    "- 1. Crea un diccionario donde la clave sea el nombre del usuario y el valor sea el teléfono (no es necesario validar). Tendrás que ir pidiendo contactos hasta el usuario diga que no quiere insertar más. No se podrán ingresar nombres repetidos."
   ]
  },
  {
   "cell_type": "code",
   "execution_count": 35,
   "id": "b687d75e",
   "metadata": {},
   "outputs": [
    {
     "name": "stdout",
     "output_type": "stream",
     "text": [
      "Ingrese un nombre: asd\n",
      "Ingrese el telefono de asd: 123\n",
      "Continuar? s/ns\n",
      "Ingrese un nombre: sdf\n",
      "Ingrese el telefono de sdf: 456\n",
      "Continuar? s/nn\n",
      "{'asd': '123', 'sdf': '456'}\n"
     ]
    }
   ],
   "source": [
    "contactos = {}\n",
    "continuar_ingresando = True\n",
    "while continuar_ingresando:\n",
    "    nombre = input(\"Ingrese un nombre: \")\n",
    "    tel = input(f\"Ingrese el telefono de {nombre}: \")\n",
    "    contactos[nombre] = tel\n",
    "    cont = input('Continuar? s/n')\n",
    "    if cont.upper() == 'N':\n",
    "        break;\n",
    "print(contactos)"
   ]
  },
  {
   "cell_type": "markdown",
   "id": "fa2b4920",
   "metadata": {},
   "source": [
    "- 2.    Crear un programa donde vamos a declarar un diccionario para guardar  los precios de las distintas frutas. El programa pedirá el nombre de la fruta  y la cantidad que se ha vendido y nos mostrará el precio final de la fruta a partir de los datos guardados en el diccionario. Si la fruta no existe nos dará un error. Tras cada consulta el programa nos preguntará si queremos hacer otra consulta."
   ]
  },
  {
   "cell_type": "code",
   "execution_count": null,
   "id": "a9a53287",
   "metadata": {},
   "outputs": [
    {
     "name": "stdout",
     "output_type": "stream",
     "text": [
      "Que fruta? manzana\n",
      "Que cantidad? 5\n",
      "5\n",
      "Continuar? s/ns\n",
      "Que fruta? asd\n",
      "Que cantidad? 2\n",
      "Esa fruta no esta en la base de datos\n"
     ]
    }
   ],
   "source": [
    "frutas = {'manzana':1,'pera':2}\n",
    "while continuar_ingresando:\n",
    "    fruta = input('Que fruta? ')\n",
    "    cantidad = input('Que cantidad? ')\n",
    "    try:\n",
    "        print(frutas[fruta]*cantidad)\n",
    "    except:\n",
    "        print('Esa fruta no esta en la base de datos')\n",
    "    cont = input('Continuar? s/n')\n",
    "    if cont.upper() == 'N':\n",
    "        break;"
   ]
  },
  {
   "cell_type": "markdown",
   "id": "1d2c216b",
   "metadata": {},
   "source": [
    "- 3.    Codifica un programa que permita guardar los nombres de alumnos de una clase y las notas que han obtenido. Cada alumno puede tener distinta cantidad de notas. Guarda la información en un diccionario cuya claves serán los nombres de los alumnos y los valores serán listas con las notas de cada alumno. El programa pedirá el número de alumnos que vamos a introducir, pedirá su nombre e irá pidiendo sus notas hasta que introduzcamos un número negativo. Al final el programa nos mostrará la lista de alumnos y la nota media obtenida por cada uno de ellos. Nota: si se introduce el nombre de un alumno que ya existe el programa nos dará un error."
   ]
  },
  {
   "cell_type": "code",
   "execution_count": null,
   "id": "c27ee249",
   "metadata": {},
   "outputs": [],
   "source": [
    "alumnos = {}"
   ]
  },
  {
   "cell_type": "markdown",
   "id": "c7294b42",
   "metadata": {},
   "source": [
    "### Archivos"
   ]
  },
  {
   "cell_type": "markdown",
   "id": "60a241e6",
   "metadata": {},
   "source": [
    "- 1. Codifica un programa que reciba un archivo de texto y emita las primeras N líneas del archivo. Las N líneas deben ser ingresadas por teclado.\n"
   ]
  },
  {
   "cell_type": "code",
   "execution_count": null,
   "id": "e90827d3",
   "metadata": {},
   "outputs": [],
   "source": []
  },
  {
   "cell_type": "markdown",
   "id": "22d722b0",
   "metadata": {},
   "source": [
    "- 2. Codifica un programa que copie el contenido de un archivo (sea de texto o binario) a otro, de modo que que de exactamente igual."
   ]
  },
  {
   "cell_type": "code",
   "execution_count": null,
   "id": "d6374c15",
   "metadata": {},
   "outputs": [],
   "source": []
  },
  {
   "cell_type": "markdown",
   "id": "bb7ec073",
   "metadata": {},
   "source": [
    "- 3. Codifica un programa que escriba en un archivo los siguientes datos: \"Nombre\",\"Apellido\",\"Telefono\",\"Cumpleaños\""
   ]
  },
  {
   "cell_type": "code",
   "execution_count": null,
   "id": "af62fe07",
   "metadata": {},
   "outputs": [],
   "source": []
  },
  {
   "cell_type": "markdown",
   "id": "75486b8c",
   "metadata": {},
   "source": [
    "- 4. Codifica un programa que reciba un archivo, lo procese e imprima por pantalla cuántas líneas, cuantas palabras y cuántos caracteres contiene el archivo."
   ]
  },
  {
   "cell_type": "code",
   "execution_count": null,
   "id": "f44a1e57",
   "metadata": {},
   "outputs": [],
   "source": []
  }
 ],
 "metadata": {
  "kernelspec": {
   "display_name": "Python 3 (ipykernel)",
   "language": "python",
   "name": "python3"
  },
  "language_info": {
   "codemirror_mode": {
    "name": "ipython",
    "version": 3
   },
   "file_extension": ".py",
   "mimetype": "text/x-python",
   "name": "python",
   "nbconvert_exporter": "python",
   "pygments_lexer": "ipython3",
   "version": "3.7.9"
  }
 },
 "nbformat": 4,
 "nbformat_minor": 5
}
