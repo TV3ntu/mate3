{
 "cells": [
  {
   "cell_type": "markdown",
   "id": "4b23e01a",
   "metadata": {},
   "source": [
    "En una encuesta a personas que tienen mascotas, dónde debían destacar las principales\n",
    "características, se determinó que:\n",
    "- 55 son juguetones y son muy compañeros.\n",
    "- 48 son muy compañeros y son inteligentes.\n",
    "- 120 son juguetones e inteligentes.\n",
    "- 40 son juguetones, inteligentes y son muy compañeros.\n",
    "\n",
    "Los datos se recabaron de la siguiente manera:\n",
    "juguetones = (9, 25, 27, 38, 13, 6, 42)\n",
    "inteligentes = [10, 8, 38, 42, 13, 27]\n",
    "compañeros = {'a':27,'b':6, 'c':13, 'd':8, 'e':9,'f':5}\n",
    "\n",
    "#### Responder:\n",
    "- a. ¿Cuántas mascotas son inteligentes solamente?\n",
    "- b. ¿Cuántas mascotas son sólo juguetones?\n",
    "- c. ¿Cuántas mascotas sólo son muy compañeros?\n",
    "- d. ¿Cuántas mascotas sólo son juguetones e inteligentes?\n",
    "- e. ¿Cuántas mascotas sólo son juguetones y son muy compañeros?\n",
    "- f. ¿Cuántas mascotas sólo son inteligentes y son muy compañeros?\n",
    "- g. Calcular el conjunto universal\n",
    "\n",
    "#### A modo de sugerencia se indican los pasos ordenados para la solución:\n",
    "- 1. declaraciones\n",
    "- 2. definir funciones de control (opcional) y otras (necesarias)\n",
    "- 3. convertir en set las estructuras\n",
    "- 4. Resolver las preguntas y el resto de operaciones para armar el gráfico\n",
    "- 5. Definir diagrama de Venn, gráfico y respuestas."
   ]
  },
  {
   "cell_type": "code",
   "execution_count": 14,
   "id": "39373b78",
   "metadata": {},
   "outputs": [],
   "source": [
    "from matplotlib import pyplot as plt\n",
    "from matplotlib_venn import venn3, venn3_circles"
   ]
  },
  {
   "cell_type": "code",
   "execution_count": 15,
   "id": "18ce0ce2",
   "metadata": {},
   "outputs": [],
   "source": [
    "juguetones = (9, 25, 27, 38, 13, 6, 42)\n",
    "inteligentes = [10, 8, 38, 42, 13, 27]\n",
    "compañeros = {'a':27,'b':6, 'c':13, 'd':8, 'e':9,'f':5}\n",
    "\n",
    "ninguno = 0"
   ]
  },
  {
   "cell_type": "markdown",
   "id": "30c4b4e8",
   "metadata": {},
   "source": [
    "#### Funciones útiles"
   ]
  },
  {
   "cell_type": "code",
   "execution_count": 16,
   "id": "647a8e69",
   "metadata": {},
   "outputs": [],
   "source": [
    "def dict_values_to_list(dictionary):\n",
    "    dict_list = [x for x in dictionary.values()]\n",
    "    return dict_list"
   ]
  },
  {
   "cell_type": "code",
   "execution_count": 17,
   "id": "fc245d75",
   "metadata": {},
   "outputs": [],
   "source": [
    "def get_total(iterable):\n",
    "    total = 0\n",
    "    if type(iterable) is dict:\n",
    "        iterable = dict_values_to_list(iterable)\n",
    "    for element in iterable:\n",
    "            total += element\n",
    "    return total"
   ]
  },
  {
   "cell_type": "code",
   "execution_count": 18,
   "id": "f69f0d08",
   "metadata": {},
   "outputs": [],
   "source": [
    "def to_set(iterable):\n",
    "    if type(iterable) is dict:\n",
    "        iterable = set(dict_values_to_list(iterable))\n",
    "    else:\n",
    "        iterable = set(iterable)\n",
    "    return iterable"
   ]
  },
  {
   "cell_type": "markdown",
   "id": "8cf2f3c3",
   "metadata": {},
   "source": [
    "#### Control"
   ]
  },
  {
   "cell_type": "code",
   "execution_count": 19,
   "id": "02a256c6",
   "metadata": {},
   "outputs": [
    {
     "data": {
      "text/plain": [
       "160"
      ]
     },
     "execution_count": 19,
     "metadata": {},
     "output_type": "execute_result"
    }
   ],
   "source": [
    "get_total(juguetones)"
   ]
  },
  {
   "cell_type": "code",
   "execution_count": 20,
   "id": "c00e4efd",
   "metadata": {},
   "outputs": [
    {
     "data": {
      "text/plain": [
       "68"
      ]
     },
     "execution_count": 20,
     "metadata": {},
     "output_type": "execute_result"
    }
   ],
   "source": [
    "get_total(compañeros)"
   ]
  },
  {
   "cell_type": "code",
   "execution_count": 21,
   "id": "1d749914",
   "metadata": {},
   "outputs": [
    {
     "ename": "NameError",
     "evalue": "name 'inteligente' is not defined",
     "output_type": "error",
     "traceback": [
      "\u001b[0;31m---------------------------------------------------------------------------\u001b[0m",
      "\u001b[0;31mNameError\u001b[0m                                 Traceback (most recent call last)",
      "\u001b[0;32m/var/folders/f_/367rs5z90kd_g2md67x3tfr5s8crz3/T/ipykernel_12937/1429757158.py\u001b[0m in \u001b[0;36m<module>\u001b[0;34m\u001b[0m\n\u001b[0;32m----> 1\u001b[0;31m \u001b[0mget_total\u001b[0m\u001b[0;34m(\u001b[0m\u001b[0minteligente\u001b[0m\u001b[0;34m)\u001b[0m\u001b[0;34m\u001b[0m\u001b[0;34m\u001b[0m\u001b[0m\n\u001b[0m",
      "\u001b[0;31mNameError\u001b[0m: name 'inteligente' is not defined"
     ]
    }
   ],
   "source": [
    "get_total(inteligente)"
   ]
  },
  {
   "cell_type": "markdown",
   "id": "92a80d68",
   "metadata": {},
   "source": [
    "#### Convierto a set"
   ]
  },
  {
   "cell_type": "code",
   "execution_count": 22,
   "id": "65daa1de",
   "metadata": {},
   "outputs": [],
   "source": [
    "juguetones = to_set(juguetones)\n",
    "compañeros = to_set(compañeros)\n",
    "inteligentes = to_set(inteligentes)"
   ]
  },
  {
   "cell_type": "markdown",
   "id": "8473d390",
   "metadata": {},
   "source": [
    "#### Respondo las preguntas"
   ]
  },
  {
   "cell_type": "code",
   "execution_count": 23,
   "id": "95aa6cf2",
   "metadata": {},
   "outputs": [],
   "source": [
    "juguetones_y_compañeros = juguetones & compañeros\n",
    "inteligentes_y_compañeros = inteligentes & compañeros\n",
    "inteligentes_y_juguetones = inteligentes & juguetones\n",
    "todos = inteligentes & juguetones & compañeros"
   ]
  },
  {
   "cell_type": "code",
   "execution_count": 24,
   "id": "43aee704",
   "metadata": {},
   "outputs": [],
   "source": [
    "solo_inteligentes = inteligentes - juguetones - compañeros\n",
    "solo_juguetones = juguetones - compañeros - inteligentes\n",
    "solo_compañeros = compañeros - juguetones - inteligentes\n",
    "solo_inteligentes_y_juguetones = inteligentes_y_juguetones - compañeros\n",
    "solo_inteligentes_y_compañeros = inteligentes_y_compañeros - juguetones\n",
    "solo_juguetones_y_compañeros = juguetones_y_compañeros - inteligentes\n",
    "universal = juguetones | compañeros | inteligentes"
   ]
  },
  {
   "cell_type": "code",
   "execution_count": 25,
   "id": "92e878a8",
   "metadata": {},
   "outputs": [
    {
     "name": "stdout",
     "output_type": "stream",
     "text": [
      "a. ¿Cuántas mascotas son inteligentes solamente? 10\n",
      "b. ¿Cuántas mascotas son sólo juguetones? 25\n",
      "c. ¿Cuántas mascotas sólo son muy compañeros? 5\n",
      "d. ¿Cuántas mascotas sólo son juguetones e inteligentes? 120\n",
      "e. ¿Cuántas mascotas sólo son juguetones y son muy compañeros? 55\n",
      "f. ¿Cuántas mascotas sólo son inteligentes y son muy compañeros? 48\n",
      "g. Calcular el conjunto universal: {5, 38, 6, 8, 9, 42, 10, 13, 25, 27}\n"
     ]
    }
   ],
   "source": [
    "print(f'a. ¿Cuántas mascotas son inteligentes solamente? {get_total(solo_inteligentes)}')\n",
    "print(f'b. ¿Cuántas mascotas son sólo juguetones? {get_total(solo_juguetones)}')\n",
    "print(f'c. ¿Cuántas mascotas sólo son muy compañeros? {get_total(solo_compañeros)}')\n",
    "print(f'd. ¿Cuántas mascotas sólo son juguetones e inteligentes? {get_total(inteligentes_y_juguetones)}')\n",
    "print(f'e. ¿Cuántas mascotas sólo son juguetones y son muy compañeros? {get_total(juguetones_y_compañeros)}')\n",
    "print(f'f. ¿Cuántas mascotas sólo son inteligentes y son muy compañeros? {get_total(inteligentes_y_compañeros)}')\n",
    "print(f'g. Calcular el conjunto universal: {universal}')"
   ]
  },
  {
   "cell_type": "markdown",
   "id": "a86ea03a",
   "metadata": {},
   "source": [
    "#### Diagrama"
   ]
  },
  {
   "cell_type": "code",
   "execution_count": 26,
   "id": "8bdf781c",
   "metadata": {},
   "outputs": [
    {
     "data": {
      "image/png": "[encoded data removed]",
      "text/plain": [
       "<Figure size 432x288 with 1 Axes>"
      ]
     },
     "metadata": {},
     "output_type": "display_data"
    }
   ],
   "source": [
    "# Totales\n",
    "total_j = get_total(solo_juguetones)\n",
    "total_c = get_total(solo_compañeros)\n",
    "total_i = get_total(solo_inteligentes)\n",
    "total_ic = get_total(solo_inteligentes_y_compañeros)\n",
    "total_ij = get_total(solo_inteligentes_y_juguetones)\n",
    "total_jc = get_total(solo_juguetones_y_compañeros)\n",
    "total_jci = get_total(todos)\n",
    "# preparamos la ventana del gráfico\n",
    "plt.figure('Mascotas')\n",
    "\n",
    "# dibujamos los diagramas\n",
    "diagram = venn3((1, 1, 1, 1, 1, 1, 1), set_labels=(\n",
    "    \"Juguetones\", \"Compañeros\", \"Inteligentes\"))\n",
    "\n",
    "# establecemos el tamaño de la fuente\n",
    "for subset in (\"111\", \"110\", \"101\", \"100\", \"011\", \"010\", \"001\"):\n",
    "    diagram.get_label_by_id(subset).set_fontsize(10)\n",
    "\n",
    "# transferimos los resultados de las operaciones\n",
    "diagram.get_label_by_id('100').set_text(total_j)\n",
    "diagram.get_label_by_id('010').set_text(total_c)\n",
    "diagram.get_label_by_id('001').set_text(total_i)\n",
    "diagram.get_label_by_id('110').set_text(total_jc)\n",
    "diagram.get_label_by_id('011').set_text(total_ic)\n",
    "diagram.get_label_by_id('101').set_text(total_ij)\n",
    "diagram.get_label_by_id('111').set_text(total_jci)\n",
    "\n",
    "# marcamos los contornos\n",
    "c = venn3_circles(subsets=(1, 1, 1, 1, 1, 1, 1))\n",
    "\n",
    "# agregamos más datos aclaratorios al gráfico\n",
    "plt.text(-0.90, 0.67,      # Texto y cantidad universal\n",
    "         f\"Universal = {universal}\",\n",
    "         size=10)\n",
    "\n",
    "plt.text(0.40, -0.5,      # Texto fuera del conjunto\n",
    "         f\"Fuera\\nde los\\nconjuntos = {ninguno}\",\n",
    "         size=8)\n",
    "\n",
    "# Respondemos las preguntas\n",
    "plt.text(-1.10, -0.20,\n",
    "         s=\"Respuestas solicitadas: \",\n",
    "         size=8,\n",
    "         ha=\"left\",  # alineación horizontal\n",
    "         va=\"bottom\",  # alineación vertical\n",
    "         bbox=dict(boxstyle=\"square\",  # tipo de cuadro\n",
    "                   ec=(1.0, 0.7, 0.5),\n",
    "                   fc=(1.0, 0.9, 0.8),))\n",
    "\n",
    "plt.text(-1.10, -0.30,\n",
    "         s=\"¿Cuántas mascotas son inteligentes solamente? \" + str(total_i),\n",
    "         size=8,\n",
    "         ha=\"left\",  # alineación horizontal\n",
    "         va=\"bottom\",  # alineación vertical\n",
    "         bbox=dict(boxstyle=\"square\",  # tipo de cuadro\n",
    "                   ec=(1.0, 0.7, 0.5),\n",
    "                   fc=(1.0, 0.9, 0.8),))\n",
    "\n",
    "plt.text(-1.10, -0.40,\n",
    "         s=\"¿Cuántas mascotas son sólo juguetones? \" + str(total_j),\n",
    "         size=8,\n",
    "         ha=\"left\",  # alineación horizontal\n",
    "         va=\"bottom\",  # alineación vertical\n",
    "         bbox=dict(boxstyle=\"square\",  # tipo de cuadro\n",
    "                   ec=(1.0, 0.7, 0.5),\n",
    "                   fc=(1.0, 0.9, 0.8),))\n",
    "\n",
    "plt.text(-1.10, -0.50,\n",
    "         s=\"¿Cuántas mascotas sólo son muy compañeros? \" + str(total_c),\n",
    "         size=8,\n",
    "         ha=\"left\",  # alineación horizontal\n",
    "         va=\"bottom\",  # alineación vertical\n",
    "         bbox=dict(boxstyle=\"square\",  # tipo de cuadro\n",
    "                   ec=(1.0, 0.7, 0.5),\n",
    "                   fc=(1.0, 0.9, 0.8),))\n",
    "\n",
    "plt.text(-1.10, -0.60,\n",
    "         s=\"¿Cuántas mascotas sólo son juguetones e inteligentes? \" + str(total_ic),\n",
    "         size=8,\n",
    "         ha=\"left\",  # alineación horizontal\n",
    "         va=\"bottom\",  # alineación vertical\n",
    "         bbox=dict(boxstyle=\"square\",  # tipo de cuadro\n",
    "                   ec=(1.0, 0.7, 0.5),\n",
    "                   fc=(1.0, 0.9, 0.8),))\n",
    "\n",
    "plt.axis('on')  # Recuadro\n",
    "plt.title(\"Deportistas\")\n",
    "plt.show()\n",
    "\n"
   ]
  },
  {
   "cell_type": "code",
   "execution_count": null,
   "id": "1a9085e4",
   "metadata": {},
   "outputs": [],
   "source": []
  }
 ],
 "metadata": {
  "kernelspec": {
   "display_name": "Python 3 (ipykernel)",
   "language": "python",
   "name": "python3"
  },
  "language_info": {
   "codemirror_mode": {
    "name": "ipython",
    "version": 3
   },
   "file_extension": ".py",
   "mimetype": "text/x-python",
   "name": "python",
   "nbconvert_exporter": "python",
   "pygments_lexer": "ipython3",
   "version": "3.7.9"
  }
 },
 "nbformat": 4,
 "nbformat_minor": 5
}
