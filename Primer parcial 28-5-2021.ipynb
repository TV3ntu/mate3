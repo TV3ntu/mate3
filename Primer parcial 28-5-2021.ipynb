{
 "cells": [
  {
   "cell_type": "markdown",
   "id": "4b23e01a",
   "metadata": {},
   "source": [
    "En una encuesta a personas que tienen mascotas, dónde debían destacar las principales\n",
    "características, se determinó que:\n",
    "- 55 son juguetones y son muy compañeros.\n",
    "- 48 son muy compañeros y son inteligentes.\n",
    "- 120 son juguetones e inteligentes.\n",
    "- 40 son juguetones, inteligentes y son muy compañeros.\n",
    "\n",
    "Los datos se recabaron de la siguiente manera:\n",
    "juguetones = (9, 25, 27, 38, 13, 6, 42)\n",
    "inteligentes = [10, 8, 38, 42, 13, 27]\n",
    "compañeros = {'a':27,'b':6, 'c':13, 'd':8, 'e':9,'f':5}\n",
    "\n",
    "#### Responder:\n",
    "- a. ¿Cuántas mascotas son inteligentes solamente?\n",
    "- b. ¿Cuántas mascotas son sólo juguetones?\n",
    "- c. ¿Cuántas mascotas sólo son muy compañeros?\n",
    "- d. ¿Cuántas mascotas sólo son juguetones e inteligentes?\n",
    "- e. ¿Cuántas mascotas sólo son juguetones y son muy compañeros?\n",
    "- f. ¿Cuántas mascotas sólo son inteligentes y son muy compañeros?\n",
    "- g. Calcular el conjunto universal\n",
    "\n",
    "#### A modo de sugerencia se indican los pasos ordenados para la solución:\n",
    "- 1. declaraciones\n",
    "- 2. definir funciones de control (opcional) y otras (necesarias)\n",
    "- 3. convertir en set las estructuras\n",
    "- 4. Resolver las preguntas y el resto de operaciones para armar el gráfico\n",
    "- 5. Definir diagrama de Venn, gráfico y respuestas."
   ]
  },
  {
   "cell_type": "code",
   "execution_count": 5,
   "id": "18ce0ce2",
   "metadata": {},
   "outputs": [],
   "source": [
    "juguetones = (9, 25, 27, 38, 13, 6, 42)\n",
    "inteligentes = [10, 8, 38, 42, 13, 27]\n",
    "compañeros = {'a':27,'b':6, 'c':13, 'd':8, 'e':9,'f':5}\n",
    "\n",
    "ninguno = 0"
   ]
  },
  {
   "cell_type": "markdown",
   "id": "30c4b4e8",
   "metadata": {},
   "source": [
    "#### Funciones útiles"
   ]
  },
  {
   "cell_type": "code",
   "execution_count": 26,
   "id": "647a8e69",
   "metadata": {},
   "outputs": [],
   "source": [
    "def dict_values_to_list(dictionary):\n",
    "    dict_list = [x for x in dictionary.values()]\n",
    "    return dict_list"
   ]
  },
  {
   "cell_type": "code",
   "execution_count": 27,
   "id": "fc245d75",
   "metadata": {},
   "outputs": [],
   "source": [
    "def get_total(iterable):\n",
    "    total = 0\n",
    "    if type(iterable) is dict:\n",
    "        iterable = dict_values_to_list(iterable)\n",
    "    for element in iterable:\n",
    "            total += element\n",
    "    return total"
   ]
  },
  {
   "cell_type": "code",
   "execution_count": 28,
   "id": "f69f0d08",
   "metadata": {},
   "outputs": [],
   "source": [
    "def to_set(iterable):\n",
    "    if type(iterable) is dict:\n",
    "        iterable = set(dict_values_to_list(iterable))\n",
    "    else:\n",
    "        iterable = set(iterable)\n",
    "    return iterable"
   ]
  },
  {
   "cell_type": "markdown",
   "id": "8cf2f3c3",
   "metadata": {},
   "source": [
    "#### Control"
   ]
  },
  {
   "cell_type": "code",
   "execution_count": 39,
   "id": "02a256c6",
   "metadata": {},
   "outputs": [
    {
     "data": {
      "text/plain": [
       "160"
      ]
     },
     "execution_count": 39,
     "metadata": {},
     "output_type": "execute_result"
    }
   ],
   "source": [
    "get_total(juguetones)"
   ]
  },
  {
   "cell_type": "code",
   "execution_count": 40,
   "id": "c00e4efd",
   "metadata": {},
   "outputs": [
    {
     "data": {
      "text/plain": [
       "68"
      ]
     },
     "execution_count": 40,
     "metadata": {},
     "output_type": "execute_result"
    }
   ],
   "source": [
    "get_total(compañeros)"
   ]
  },
  {
   "cell_type": "code",
   "execution_count": 41,
   "id": "1d749914",
   "metadata": {},
   "outputs": [
    {
     "data": {
      "text/plain": [
       "138"
      ]
     },
     "execution_count": 41,
     "metadata": {},
     "output_type": "execute_result"
    }
   ],
   "source": [
    "get_total(inteligente)"
   ]
  },
  {
   "cell_type": "markdown",
   "id": "92a80d68",
   "metadata": {},
   "source": [
    "#### Convierto a set"
   ]
  },
  {
   "cell_type": "code",
   "execution_count": 42,
   "id": "65daa1de",
   "metadata": {},
   "outputs": [],
   "source": [
    "juguetones = to_set(juguetones)\n",
    "compañeros = to_set(compañeros)\n",
    "inteligentes = to_set(inteligentes)"
   ]
  },
  {
   "cell_type": "markdown",
   "id": "8473d390",
   "metadata": {},
   "source": [
    "#### Respondo las preguntas"
   ]
  },
  {
   "cell_type": "code",
   "execution_count": 45,
   "id": "95aa6cf2",
   "metadata": {},
   "outputs": [],
   "source": [
    "juguetones_y_compañeros = juguetones & compañeros\n",
    "inteligentes_y_compañeros = inteligentes & compañeros\n",
    "inteligentes_y_juguetones = inteligentes & juguetones\n",
    "todos = inteligentes & juguetones & compañeros"
   ]
  },
  {
   "cell_type": "code",
   "execution_count": 52,
   "id": "43aee704",
   "metadata": {},
   "outputs": [],
   "source": [
    "solo_inteligentes = inteligentes - juguetones - compañeros\n",
    "solo_juguetones = juguetones - compañeros - inteligentes\n",
    "solo_compañeros = compañeros - juguetones - inteligentes\n",
    "solo_inteligentes_y_juguetones = inteligentes_y_juguetones - compañeros\n",
    "solo_inteligentes_y_compañeros = inteligentes_y_compañeros - juguetones\n",
    "solo_juguetones_y_compañeros = juguetones_y_compañeros - inteligentes\n",
    "universal = juguetones | compañeros | inteligentes"
   ]
  },
  {
   "cell_type": "code",
   "execution_count": 53,
   "id": "92e878a8",
   "metadata": {},
   "outputs": [
    {
     "name": "stdout",
     "output_type": "stream",
     "text": [
      "a. ¿Cuántas mascotas son inteligentes solamente? 10\n",
      "b. ¿Cuántas mascotas son sólo juguetones? 25\n",
      "c. ¿Cuántas mascotas sólo son muy compañeros? 5\n",
      "d. ¿Cuántas mascotas sólo son juguetones e inteligentes? 120\n",
      "e. ¿Cuántas mascotas sólo son juguetones y son muy compañeros? 55\n",
      "f. ¿Cuántas mascotas sólo son inteligentes y son muy compañeros? 48\n",
      "g. Calcular el conjunto universal: {5, 38, 6, 8, 9, 42, 10, 13, 25, 27}\n"
     ]
    }
   ],
   "source": [
    "print(f'a. ¿Cuántas mascotas son inteligentes solamente? {get_total(solo_inteligentes)}')\n",
    "print(f'b. ¿Cuántas mascotas son sólo juguetones? {get_total(solo_juguetones)}')\n",
    "print(f'c. ¿Cuántas mascotas sólo son muy compañeros? {get_total(solo_compañeros)}')\n",
    "print(f'd. ¿Cuántas mascotas sólo son juguetones e inteligentes? {get_total(inteligentes_y_juguetones)}')\n",
    "print(f'e. ¿Cuántas mascotas sólo son juguetones y son muy compañeros? {get_total(juguetones_y_compañeros)}')\n",
    "print(f'f. ¿Cuántas mascotas sólo son inteligentes y son muy compañeros? {get_total(inteligentes_y_compañeros)}')\n",
    "print(f'g. Calcular el conjunto universal: {universal}')"
   ]
  },
  {
   "cell_type": "code",
   "execution_count": null,
   "id": "299c24b9",
   "metadata": {},
   "outputs": [],
   "source": []
  }
 ],
 "metadata": {
  "kernelspec": {
   "display_name": "Python 3 (ipykernel)",
   "language": "python",
   "name": "python3"
  },
  "language_info": {
   "codemirror_mode": {
    "name": "ipython",
    "version": 3
   },
   "file_extension": ".py",
   "mimetype": "text/x-python",
   "name": "python",
   "nbconvert_exporter": "python",
   "pygments_lexer": "ipython3",
   "version": "3.7.9"
  }
 },
 "nbformat": 4,
 "nbformat_minor": 5
}
