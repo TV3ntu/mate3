{
 "cells": [
  {
   "cell_type": "markdown",
   "id": "9a095ccf",
   "metadata": {},
   "source": [
    "### Rangos (range)"
   ]
  },
  {
   "cell_type": "markdown",
   "id": "97ee45d8",
   "metadata": {},
   "source": [
    "- 1.    Escribe un tipo range() que emita: [100, 101, 102, 103]"
   ]
  },
  {
   "cell_type": "code",
   "execution_count": 28,
   "id": "cf2216e1",
   "metadata": {},
   "outputs": [
    {
     "name": "stdout",
     "output_type": "stream",
     "text": [
      "[100, 101, 102, 103]\n"
     ]
    }
   ],
   "source": [
    "print(list(range(100,104)))"
   ]
  },
  {
   "cell_type": "markdown",
   "id": "062ebc91",
   "metadata": {},
   "source": [
    "- 2.    Escribe un tipo range() que emita: [-50, -2050, -4050, -6050]"
   ]
  },
  {
   "cell_type": "code",
   "execution_count": 29,
   "id": "d6ae0d8e",
   "metadata": {},
   "outputs": [
    {
     "name": "stdout",
     "output_type": "stream",
     "text": [
      "[-50, -2050, -4050, -6050]\n"
     ]
    }
   ],
   "source": [
    "print(list(range(-50,-6051,-2000)))"
   ]
  },
  {
   "cell_type": "markdown",
   "id": "89771a77",
   "metadata": {},
   "source": [
    "- 3.    Escribe un programa que pida un número entero y emita una lista de números consecutivos del 0 al valor dado"
   ]
  },
  {
   "cell_type": "code",
   "execution_count": 30,
   "id": "94389a25",
   "metadata": {},
   "outputs": [
    {
     "name": "stdout",
     "output_type": "stream",
     "text": [
      "Escriba un numero entero 10\n",
      "[0, 1, 2, 3, 4, 5, 6, 7, 8, 9]\n"
     ]
    }
   ],
   "source": [
    "var = int(input('Escriba un numero entero '))\n",
    "print(list(range(0,var)))"
   ]
  },
  {
   "cell_type": "markdown",
   "id": "793c91c2",
   "metadata": {},
   "source": [
    "- 4.    Escribe un programa que pida dos números enteros (el segundo mayor que el primero) y emita listas de números consecutivos al derecho y al revés."
   ]
  },
  {
   "cell_type": "code",
   "execution_count": 31,
   "id": "c7404e40",
   "metadata": {},
   "outputs": [
    {
     "name": "stdout",
     "output_type": "stream",
     "text": [
      "Escriba un numero entero 10\n",
      "Escriba un numero entero, menor que el anterior 5\n",
      "[5, 6, 7, 8, 9]\n",
      "[10, 9, 8, 7, 6]\n"
     ]
    }
   ],
   "source": [
    "var1 = int(input('Escriba un numero entero '))\n",
    "var2 = int(input('Escriba un numero entero, menor que el anterior '))\n",
    "print(list(range(var2,var1))) \n",
    "print(list(range(var1,var2,-1)))"
   ]
  },
  {
   "cell_type": "markdown",
   "id": "e906ef46",
   "metadata": {},
   "source": [
    "- 5.    Escribe un programa que pida dos números enteros y emita la lista de números consecutivos que hay entre ellos, de menor a mayor."
   ]
  },
  {
   "cell_type": "code",
   "execution_count": 32,
   "id": "721fc3d9",
   "metadata": {},
   "outputs": [
    {
     "name": "stdout",
     "output_type": "stream",
     "text": [
      "Ingrese un numero entero 5\n",
      "Ingrese un numero entero 10\n",
      "[5, 6, 7, 8, 9]\n"
     ]
    }
   ],
   "source": [
    "var1 = int(input('Ingrese un numero entero '))\n",
    "var2 = int(input('Ingrese un numero entero '))\n",
    "if var1>var2:\n",
    "    print(list(range(var2,var1)))\n",
    "else:\n",
    "    print(list(range(var1,var2)))"
   ]
  },
  {
   "cell_type": "markdown",
   "id": "edc4bb04",
   "metadata": {},
   "source": [
    "- 7.    Escribe tres programas que emitan las siguientes secuencias de números:\n",
    "\n",
    "•    En el primer programa, el tipo range() que se utilice en cada bucle debe tener un único argumento.\n",
    "\n",
    "•    En el segundo programa, el tipo range() que se utilice en cada bucle debe tener dos argumentos.\n",
    "\n",
    "•    En el tercer programa, el tipo range() que se utilice en cada bucle debe tener tres argumentos.\n"
   ]
  },
  {
   "cell_type": "code",
   "execution_count": 33,
   "id": "23cb93be",
   "metadata": {},
   "outputs": [
    {
     "data": {
      "text/plain": [
       "[0, 1, 2, 3, 4, 5, 6, 7, 8, 9]"
      ]
     },
     "execution_count": 33,
     "metadata": {},
     "output_type": "execute_result"
    }
   ],
   "source": [
    "list(range(10))"
   ]
  },
  {
   "cell_type": "code",
   "execution_count": 34,
   "id": "b1a87d90",
   "metadata": {},
   "outputs": [
    {
     "data": {
      "text/plain": [
       "[10, 11, 12, 13, 14, 15, 16, 17, 18, 19]"
      ]
     },
     "execution_count": 34,
     "metadata": {},
     "output_type": "execute_result"
    }
   ],
   "source": [
    "list(range(10,20))"
   ]
  },
  {
   "cell_type": "code",
   "execution_count": 35,
   "id": "bb95a6df",
   "metadata": {},
   "outputs": [
    {
     "data": {
      "text/plain": [
       "[10, 12, 14, 16, 18]"
      ]
     },
     "execution_count": 35,
     "metadata": {},
     "output_type": "execute_result"
    }
   ],
   "source": [
    "list(range(10,20,2))"
   ]
  },
  {
   "cell_type": "markdown",
   "id": "58fc9805",
   "metadata": {},
   "source": [
    "### Listas (list)"
   ]
  },
  {
   "cell_type": "markdown",
   "id": "9f4ff18b",
   "metadata": {},
   "source": [
    "- 1.    Escribe un programa que permita crear una lista de palabras. Para ello, el programa tiene que pedir un\n",
    " número y luego solicitar esa cantidad de palabras para crear la lista. Por último, el programa tiene que emi\n",
    "tir la lista."
   ]
  },
  {
   "cell_type": "code",
   "execution_count": 37,
   "id": "fb14fbd8",
   "metadata": {},
   "outputs": [
    {
     "name": "stdout",
     "output_type": "stream",
     "text": [
      "Ingrese muchas palabrashola como estas todo bien\n",
      "['hola', 'como', 'estas', 'todo', 'bien']\n"
     ]
    }
   ],
   "source": [
    "var = input('Ingrese muchas palabras')\n",
    "print(var.split())"
   ]
  },
  {
   "cell_type": "markdown",
   "id": "e8c4691c",
   "metadata": {},
   "source": [
    "- 2.    Escribe un programa que permita crear una lista de palabras y que, a continuación, pida una palabra y d\n",
    "iga cuántas veces aparece esa palabra en la lista."
   ]
  },
  {
   "cell_type": "code",
   "execution_count": 44,
   "id": "5b84bc9b",
   "metadata": {},
   "outputs": [
    {
     "name": "stdout",
     "output_type": "stream",
     "text": [
      "Ingrese muchas palabrashola como estas hola hola\n",
      "['hola', 'como', 'estas', 'hola', 'hola']\n",
      "que palabra desea conocer la cantidad de ocurrencias?hola\n"
     ]
    },
    {
     "data": {
      "text/plain": [
       "3"
      ]
     },
     "execution_count": 44,
     "metadata": {},
     "output_type": "execute_result"
    }
   ],
   "source": [
    "var = input('Ingrese muchas palabras ').split()\n",
    "print(var)\n",
    "var2 = input('que palabra desea conocer la cantidad de ocurrencias? ')\n",
    "var.count(var2)"
   ]
  },
  {
   "cell_type": "markdown",
   "id": "3b251c8c",
   "metadata": {},
   "source": [
    "- 3.    Escribe un programa que permita crear una lista de palabras y que, a continuación, pida dos palabras y\n",
    " sustituya la primera  (que debe estar en la lista) por la segunda. Emitir la lista."
   ]
  },
  {
   "cell_type": "code",
   "execution_count": 55,
   "id": "32754677",
   "metadata": {},
   "outputs": [
    {
     "name": "stdout",
     "output_type": "stream",
     "text": [
      "Ingrese muchas palabras hola como estas hola como estas\n",
      "['hola', 'como', 'estas', 'hola', 'como', 'estas']\n",
      "Ingrese una palabra hola\n",
      "Ingrese otra palabra como\n",
      "['como', 'como', 'estas', 'como', 'como', 'estas']\n"
     ]
    }
   ],
   "source": [
    "var = input('Ingrese muchas palabras ').split()\n",
    "print(var)\n",
    "var1 = input('Ingrese una palabra ')\n",
    "var2 = input('Ingrese otra palabra ')\n",
    "for index,v in enumerate(var):\n",
    "    if v == var1:\n",
    "        var[index] = var2\n",
    "print(var)"
   ]
  },
  {
   "cell_type": "markdown",
   "id": "f309a979",
   "metadata": {},
   "source": [
    "- 4.    Escribe un programa que permita crear una lista de palabras y que, a continuación, pida una palabra y e\n",
    "limine esa palabra de la lista.\n"
   ]
  },
  {
   "cell_type": "code",
   "execution_count": 59,
   "id": "835d81ae",
   "metadata": {},
   "outputs": [
    {
     "name": "stdout",
     "output_type": "stream",
     "text": [
      "Ingrese muchas palabras hola como estas hola como estas\n",
      "['hola', 'como', 'estas', 'hola', 'como', 'estas']\n",
      "Ingrese una palabra para eliminarhola\n",
      "['como', 'estas', 'como', 'estas']\n"
     ]
    }
   ],
   "source": [
    "var = input('Ingrese muchas palabras ').split()\n",
    "print(var)\n",
    "var1 = input('Ingrese una palabra para eliminar')\n",
    "while var1 in var:\n",
    "    var.remove(var1)\n",
    "print(var)"
   ]
  },
  {
   "cell_type": "markdown",
   "id": "577b3f2a",
   "metadata": {},
   "source": [
    "- 5.    Escribe un programa que permita crear dos listas de palabras y que, a continuación, elimine de la prime\n",
    "ra lista los nombres de la segunda lista."
   ]
  },
  {
   "cell_type": "code",
   "execution_count": 68,
   "id": "abc2ca36",
   "metadata": {},
   "outputs": [
    {
     "name": "stdout",
     "output_type": "stream",
     "text": [
      "Ingrese muchas palabras hola como estas hola\n",
      "Ingrese muchas palabras hola estas\n",
      "['como']\n"
     ]
    }
   ],
   "source": [
    "var1 = input('Ingrese muchas palabras ').split()\n",
    "var2 = input('Ingrese muchas palabras ').split()\n",
    "print([x for x in var1 if x not in var2])"
   ]
  },
  {
   "cell_type": "markdown",
   "id": "4858dd33",
   "metadata": {},
   "source": [
    "- 6.    Escribe un programa que permita crear una lista de palabras y que, a continuación, cree una segunda lis\n",
    "ta igual a la primera, pero al revés (crear una lista distinta)."
   ]
  },
  {
   "cell_type": "code",
   "execution_count": 69,
   "id": "399a2a46",
   "metadata": {},
   "outputs": [
    {
     "name": "stdout",
     "output_type": "stream",
     "text": [
      "Ingrese muchas palabras hola como estas todo bien\n",
      "['bien', 'todo', 'estas', 'como', 'hola']\n"
     ]
    }
   ],
   "source": [
    "var1 = input('Ingrese muchas palabras ').split()\n",
    "var2 = var1[::-1]\n",
    "print(var2)"
   ]
  },
  {
   "cell_type": "markdown",
   "id": "2868a443",
   "metadata": {},
   "source": [
    "### Ciclo for"
   ]
  },
  {
   "cell_type": "markdown",
   "id": "019431cb",
   "metadata": {},
   "source": [
    "- 1.    Escribe un programa que le permita realizar la escritura de los primeros 100  números naturales."
   ]
  },
  {
   "cell_type": "code",
   "execution_count": 73,
   "id": "bb11c323",
   "metadata": {},
   "outputs": [
    {
     "name": "stdout",
     "output_type": "stream",
     "text": [
      "0\n",
      "1\n",
      "2\n",
      "3\n",
      "4\n",
      "5\n",
      "6\n",
      "7\n",
      "8\n",
      "9\n",
      "10\n",
      "11\n",
      "12\n",
      "13\n",
      "14\n",
      "15\n",
      "16\n",
      "17\n",
      "18\n",
      "19\n",
      "20\n",
      "21\n",
      "22\n",
      "23\n",
      "24\n",
      "25\n",
      "26\n",
      "27\n",
      "28\n",
      "29\n",
      "30\n",
      "31\n",
      "32\n",
      "33\n",
      "34\n",
      "35\n",
      "36\n",
      "37\n",
      "38\n",
      "39\n",
      "40\n",
      "41\n",
      "42\n",
      "43\n",
      "44\n",
      "45\n",
      "46\n",
      "47\n",
      "48\n",
      "49\n",
      "50\n",
      "51\n",
      "52\n",
      "53\n",
      "54\n",
      "55\n",
      "56\n",
      "57\n",
      "58\n",
      "59\n",
      "60\n",
      "61\n",
      "62\n",
      "63\n",
      "64\n",
      "65\n",
      "66\n",
      "67\n",
      "68\n",
      "69\n",
      "70\n",
      "71\n",
      "72\n",
      "73\n",
      "74\n",
      "75\n",
      "76\n",
      "77\n",
      "78\n",
      "79\n",
      "80\n",
      "81\n",
      "82\n",
      "83\n",
      "84\n",
      "85\n",
      "86\n",
      "87\n",
      "88\n",
      "89\n",
      "90\n",
      "91\n",
      "92\n",
      "93\n",
      "94\n",
      "95\n",
      "96\n",
      "97\n",
      "98\n",
      "99\n"
     ]
    }
   ],
   "source": [
    "for i in range(100):\n",
    "    print(i)"
   ]
  },
  {
   "cell_type": "markdown",
   "id": "a2b741b9",
   "metadata": {},
   "source": [
    "- 2.    Escribe un programa que le permita realizar la suma de los primeros N números impares. El N debe ingres\n",
    "arse por teclado."
   ]
  },
  {
   "cell_type": "code",
   "execution_count": 78,
   "id": "5b0839f9",
   "metadata": {},
   "outputs": [
    {
     "name": "stdout",
     "output_type": "stream",
     "text": [
      "Ingrese un numero 6\n",
      "9\n"
     ]
    }
   ],
   "source": [
    "n = int(input('Ingrese un numero '))\n",
    "total = 0\n",
    "print(sum([x for x in range(n) if x%2 != 0]))"
   ]
  },
  {
   "cell_type": "markdown",
   "id": "3f67f077",
   "metadata": {},
   "source": [
    "- 3.    Escribe un programa que calcule el factorial de un número cualquiera que se ingresa por teclado."
   ]
  },
  {
   "cell_type": "code",
   "execution_count": 88,
   "id": "c4f950db",
   "metadata": {},
   "outputs": [
    {
     "name": "stdout",
     "output_type": "stream",
     "text": [
      "Ingrese un numero 10\n",
      "3628800\n"
     ]
    }
   ],
   "source": [
    "n = int(input('Ingrese un numero '))\n",
    "fact = n\n",
    "for v in range(n-1,1,-1):\n",
    "    fact = fact * v\n",
    "print(fact)"
   ]
  },
  {
   "cell_type": "markdown",
   "id": "8c5f359a",
   "metadata": {},
   "source": [
    "- 4.    Muestre los N primeros números de la secuencia de Fibonacci, siendo n un dato entero."
   ]
  },
  {
   "cell_type": "code",
   "execution_count": null,
   "id": "3016ff81",
   "metadata": {},
   "outputs": [],
   "source": [
    "n = int(input('Ingrese un numero '))\n"
   ]
  },
  {
   "cell_type": "markdown",
   "id": "c065d71c",
   "metadata": {},
   "source": [
    "### Ciclo while"
   ]
  },
  {
   "cell_type": "markdown",
   "id": "70be4582",
   "metadata": {},
   "source": [
    "- 1.    Escribe un programa que pida la cantidad de números positivos que se tienen que ingresar y a continuaci\n",
    "ón pida números hasta que se hayan ingresado la cantidad de números indicada."
   ]
  },
  {
   "cell_type": "code",
   "execution_count": null,
   "id": "6f65f1f6",
   "metadata": {},
   "outputs": [],
   "source": []
  },
  {
   "cell_type": "markdown",
   "id": "5f0806f9",
   "metadata": {},
   "source": [
    "- 2.    Escribe un programa que pida dos números enteros. El programa pedirá de nuevo el segundo número mientra\n",
    "s no sea mayor que el primero. El programa termina y emitirá los números."
   ]
  },
  {
   "cell_type": "code",
   "execution_count": null,
   "id": "f961197b",
   "metadata": {},
   "outputs": [],
   "source": []
  },
  {
   "cell_type": "markdown",
   "id": "f28aca9d",
   "metadata": {},
   "source": [
    "- 3.    Escribe un programa que pida números decimales mientras el usuario escriba número mayores que el primero"
   ]
  },
  {
   "cell_type": "code",
   "execution_count": null,
   "id": "948364aa",
   "metadata": {},
   "outputs": [],
   "source": []
  },
  {
   "cell_type": "markdown",
   "id": "ce7f9cf5",
   "metadata": {},
   "source": [
    "- 4.    Escribe un programa que pida números enteros mientras el usuario ingresa números cada vez más grandes,\n",
    " el programa emite en cada iteración el número anterior ingresado y finaliza ingresando un número menor."
   ]
  },
  {
   "cell_type": "code",
   "execution_count": null,
   "id": "2e6bf8ea",
   "metadata": {},
   "outputs": [],
   "source": []
  },
  {
   "cell_type": "markdown",
   "id": "3a9aa0c1",
   "metadata": {},
   "source": [
    "- 5.    Escribe un programa que pida números mientras no se escriba un número negativo. El programa terminará e\n",
    "mitiendo la suma de los números ingresados.\n"
   ]
  },
  {
   "cell_type": "code",
   "execution_count": null,
   "id": "22d459fd",
   "metadata": {},
   "outputs": [],
   "source": []
  },
  {
   "cell_type": "markdown",
   "id": "a4728970",
   "metadata": {},
   "source": [
    "- 6.    Escribe un programa que pida un valor límite positivo y a continuación pida números hasta que la suma d\n",
    "e los números introducidos supere el límite inicial.\n"
   ]
  },
  {
   "cell_type": "code",
   "execution_count": null,
   "id": "88e65072",
   "metadata": {},
   "outputs": [],
   "source": []
  },
  {
   "cell_type": "markdown",
   "id": "eae9dbea",
   "metadata": {},
   "source": [
    "- 7.    Escribe un programa que pida primero dos números enteros (mínimo y máximo) y que después pida números e\n",
    "nteros situados entre ellos. El programa terminará cuando se escriba un número que no esté comprendido entre\n",
    " los dos valores iniciales y emitirá la cantidad de números ingresados."
   ]
  },
  {
   "cell_type": "code",
   "execution_count": null,
   "id": "4bd0c380",
   "metadata": {},
   "outputs": [],
   "source": []
  },
  {
   "cell_type": "markdown",
   "id": "62365fc3",
   "metadata": {},
   "source": [
    "- 8.    Escribe un programa que pida números pares mientras el usuario indique que quiere seguir introduciendo\n",
    " números. Para indicar que quiere seguir escribiendo números, el usuario deberá contestar ‘S’ o ‘s’ a la preg\n",
    "unta."
   ]
  },
  {
   "cell_type": "code",
   "execution_count": null,
   "id": "1e0f5933",
   "metadata": {},
   "outputs": [],
   "source": []
  }
 ],
 "metadata": {
  "kernelspec": {
   "display_name": "Python 3 (ipykernel)",
   "language": "python",
   "name": "python3"
  },
  "language_info": {
   "codemirror_mode": {
    "name": "ipython",
    "version": 3
   },
   "file_extension": ".py",
   "mimetype": "text/x-python",
   "name": "python",
   "nbconvert_exporter": "python",
   "pygments_lexer": "ipython3",
   "version": "3.7.9"
  }
 },
 "nbformat": 4,
 "nbformat_minor": 5
}
