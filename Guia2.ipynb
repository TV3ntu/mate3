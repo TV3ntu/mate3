{
 "cells": [
  {
   "cell_type": "markdown",
   "id": "10e5d790",
   "metadata": {},
   "source": [
    "### Rangos (range)"
   ]
  },
  {
   "cell_type": "markdown",
   "id": "a6790de4",
   "metadata": {},
   "source": [
    "- 1.    Escribe un tipo range() que emita: [100, 101, 102, 103]"
   ]
  },
  {
   "cell_type": "code",
   "execution_count": 28,
   "id": "02d54772",
   "metadata": {},
   "outputs": [
    {
     "name": "stdout",
     "output_type": "stream",
     "text": [
      "[100, 101, 102, 103]\n"
     ]
    }
   ],
   "source": [
    "print(list(range(100,104)))"
   ]
  },
  {
   "cell_type": "markdown",
   "id": "babac9cb",
   "metadata": {},
   "source": [
    "- 2.    Escribe un tipo range() que emita: [-50, -2050, -4050, -6050]"
   ]
  },
  {
   "cell_type": "code",
   "execution_count": 29,
   "id": "68b8e994",
   "metadata": {},
   "outputs": [
    {
     "name": "stdout",
     "output_type": "stream",
     "text": [
      "[-50, -2050, -4050, -6050]\n"
     ]
    }
   ],
   "source": [
    "print(list(range(-50,-6051,-2000)))"
   ]
  },
  {
   "cell_type": "markdown",
   "id": "7ced86bc",
   "metadata": {},
   "source": [
    "- 3.    Escribe un programa que pida un número entero y emita una lista de números consecutivos del 0 al valor dado"
   ]
  },
  {
   "cell_type": "code",
   "execution_count": 30,
   "id": "05b9304f",
   "metadata": {},
   "outputs": [
    {
     "name": "stdout",
     "output_type": "stream",
     "text": [
      "Escriba un numero entero 10\n",
      "[0, 1, 2, 3, 4, 5, 6, 7, 8, 9]\n"
     ]
    }
   ],
   "source": [
    "var = int(input('Escriba un numero entero '))\n",
    "print(list(range(0,var)))"
   ]
  },
  {
   "cell_type": "markdown",
   "id": "bd4646d8",
   "metadata": {},
   "source": [
    "- 4.    Escribe un programa que pida dos números enteros (el segundo mayor que el primero) y emita listas de números consecutivos al derecho y al revés."
   ]
  },
  {
   "cell_type": "code",
   "execution_count": 31,
   "id": "a674bfb5",
   "metadata": {},
   "outputs": [
    {
     "name": "stdout",
     "output_type": "stream",
     "text": [
      "Escriba un numero entero 10\n",
      "Escriba un numero entero, menor que el anterior 5\n",
      "[5, 6, 7, 8, 9]\n",
      "[10, 9, 8, 7, 6]\n"
     ]
    }
   ],
   "source": [
    "var1 = int(input('Escriba un numero entero '))\n",
    "var2 = int(input('Escriba un numero entero, menor que el anterior '))\n",
    "print(list(range(var2,var1))) \n",
    "print(list(range(var1,var2,-1)))"
   ]
  },
  {
   "cell_type": "markdown",
   "id": "dcb843e0",
   "metadata": {},
   "source": [
    "- 5.    Escribe un programa que pida dos números enteros y emita la lista de números consecutivos que hay entre ellos, de menor a mayor."
   ]
  },
  {
   "cell_type": "code",
   "execution_count": 32,
   "id": "a3d343ad",
   "metadata": {},
   "outputs": [
    {
     "name": "stdout",
     "output_type": "stream",
     "text": [
      "Ingrese un numero entero 5\n",
      "Ingrese un numero entero 10\n",
      "[5, 6, 7, 8, 9]\n"
     ]
    }
   ],
   "source": [
    "var1 = int(input('Ingrese un numero entero '))\n",
    "var2 = int(input('Ingrese un numero entero '))\n",
    "if var1>var2:\n",
    "    print(list(range(var2,var1)))\n",
    "else:\n",
    "    print(list(range(var1,var2)))"
   ]
  },
  {
   "cell_type": "markdown",
   "id": "49d7aa80",
   "metadata": {},
   "source": [
    "- 7.    Escribe tres programas que emitan las siguientes secuencias de números:\n",
    "\n",
    "•    En el primer programa, el tipo range() que se utilice en cada bucle debe tener un único argumento.\n",
    "\n",
    "•    En el segundo programa, el tipo range() que se utilice en cada bucle debe tener dos argumentos.\n",
    "\n",
    "•    En el tercer programa, el tipo range() que se utilice en cada bucle debe tener tres argumentos.\n"
   ]
  },
  {
   "cell_type": "code",
   "execution_count": 33,
   "id": "ae17b493",
   "metadata": {},
   "outputs": [
    {
     "data": {
      "text/plain": [
       "[0, 1, 2, 3, 4, 5, 6, 7, 8, 9]"
      ]
     },
     "execution_count": 33,
     "metadata": {},
     "output_type": "execute_result"
    }
   ],
   "source": [
    "list(range(10))"
   ]
  },
  {
   "cell_type": "code",
   "execution_count": 34,
   "id": "cd0228e3",
   "metadata": {},
   "outputs": [
    {
     "data": {
      "text/plain": [
       "[10, 11, 12, 13, 14, 15, 16, 17, 18, 19]"
      ]
     },
     "execution_count": 34,
     "metadata": {},
     "output_type": "execute_result"
    }
   ],
   "source": [
    "list(range(10,20))"
   ]
  },
  {
   "cell_type": "code",
   "execution_count": 35,
   "id": "15395806",
   "metadata": {},
   "outputs": [
    {
     "data": {
      "text/plain": [
       "[10, 12, 14, 16, 18]"
      ]
     },
     "execution_count": 35,
     "metadata": {},
     "output_type": "execute_result"
    }
   ],
   "source": [
    "list(range(10,20,2))"
   ]
  },
  {
   "cell_type": "markdown",
   "id": "65435b7d",
   "metadata": {},
   "source": [
    "### Listas (list)"
   ]
  },
  {
   "cell_type": "markdown",
   "id": "e51c848c",
   "metadata": {},
   "source": [
    "- 1.    Escribe un programa que permita crear una lista de palabras. Para ello, el programa tiene que pedir un\n",
    " número y luego solicitar esa cantidad de palabras para crear la lista. Por último, el programa tiene que emi\n",
    "tir la lista."
   ]
  },
  {
   "cell_type": "code",
   "execution_count": 37,
   "id": "683170c3",
   "metadata": {},
   "outputs": [
    {
     "name": "stdout",
     "output_type": "stream",
     "text": [
      "Ingrese muchas palabrashola como estas todo bien\n",
      "['hola', 'como', 'estas', 'todo', 'bien']\n"
     ]
    }
   ],
   "source": [
    "var = input('Ingrese muchas palabras')\n",
    "print(var.split())"
   ]
  },
  {
   "cell_type": "markdown",
   "id": "e3f1310b",
   "metadata": {},
   "source": [
    "- 2.    Escribe un programa que permita crear una lista de palabras y que, a continuación, pida una palabra y d\n",
    "iga cuántas veces aparece esa palabra en la lista."
   ]
  },
  {
   "cell_type": "code",
   "execution_count": 44,
   "id": "04d850c2",
   "metadata": {},
   "outputs": [
    {
     "name": "stdout",
     "output_type": "stream",
     "text": [
      "Ingrese muchas palabrashola como estas hola hola\n",
      "['hola', 'como', 'estas', 'hola', 'hola']\n",
      "que palabra desea conocer la cantidad de ocurrencias?hola\n"
     ]
    },
    {
     "data": {
      "text/plain": [
       "3"
      ]
     },
     "execution_count": 44,
     "metadata": {},
     "output_type": "execute_result"
    }
   ],
   "source": [
    "var = input('Ingrese muchas palabras ').split()\n",
    "print(var)\n",
    "var2 = input('que palabra desea conocer la cantidad de ocurrencias? ')\n",
    "var.count(var2)"
   ]
  },
  {
   "cell_type": "markdown",
   "id": "6c47b748",
   "metadata": {},
   "source": [
    "- 3.    Escribe un programa que permita crear una lista de palabras y que, a continuación, pida dos palabras y\n",
    " sustituya la primera  (que debe estar en la lista) por la segunda. Emitir la lista."
   ]
  },
  {
   "cell_type": "code",
   "execution_count": 55,
   "id": "0af36b37",
   "metadata": {},
   "outputs": [
    {
     "name": "stdout",
     "output_type": "stream",
     "text": [
      "Ingrese muchas palabras hola como estas hola como estas\n",
      "['hola', 'como', 'estas', 'hola', 'como', 'estas']\n",
      "Ingrese una palabra hola\n",
      "Ingrese otra palabra como\n",
      "['como', 'como', 'estas', 'como', 'como', 'estas']\n"
     ]
    }
   ],
   "source": [
    "var = input('Ingrese muchas palabras ').split()\n",
    "print(var)\n",
    "var1 = input('Ingrese una palabra ')\n",
    "var2 = input('Ingrese otra palabra ')\n",
    "for index,v in enumerate(var):\n",
    "    if v == var1:\n",
    "        var[index] = var2\n",
    "print(var)"
   ]
  },
  {
   "cell_type": "markdown",
   "id": "d6f81e37",
   "metadata": {},
   "source": [
    "- 4.    Escribe un programa que permita crear una lista de palabras y que, a continuación, pida una palabra y e\n",
    "limine esa palabra de la lista.\n"
   ]
  },
  {
   "cell_type": "code",
   "execution_count": 59,
   "id": "fa0d5924",
   "metadata": {},
   "outputs": [
    {
     "name": "stdout",
     "output_type": "stream",
     "text": [
      "Ingrese muchas palabras hola como estas hola como estas\n",
      "['hola', 'como', 'estas', 'hola', 'como', 'estas']\n",
      "Ingrese una palabra para eliminarhola\n",
      "['como', 'estas', 'como', 'estas']\n"
     ]
    }
   ],
   "source": [
    "var = input('Ingrese muchas palabras ').split()\n",
    "print(var)\n",
    "var1 = input('Ingrese una palabra para eliminar')\n",
    "while var1 in var:\n",
    "    var.remove(var1)\n",
    "print(var)"
   ]
  },
  {
   "cell_type": "markdown",
   "id": "39555386",
   "metadata": {},
   "source": [
    "- 5.    Escribe un programa que permita crear dos listas de palabras y que, a continuación, elimine de la prime\n",
    "ra lista los nombres de la segunda lista."
   ]
  },
  {
   "cell_type": "code",
   "execution_count": 68,
   "id": "f6d72f6a",
   "metadata": {},
   "outputs": [
    {
     "name": "stdout",
     "output_type": "stream",
     "text": [
      "Ingrese muchas palabras hola como estas hola\n",
      "Ingrese muchas palabras hola estas\n",
      "['como']\n"
     ]
    }
   ],
   "source": [
    "var1 = input('Ingrese muchas palabras ').split()\n",
    "var2 = input('Ingrese muchas palabras ').split()\n",
    "print([x for x in var1 if x not in var2])"
   ]
  },
  {
   "cell_type": "markdown",
   "id": "ad165eb8",
   "metadata": {},
   "source": [
    "- 6.    Escribe un programa que permita crear una lista de palabras y que, a continuación, cree una segunda lis\n",
    "ta igual a la primera, pero al revés (crear una lista distinta)."
   ]
  },
  {
   "cell_type": "code",
   "execution_count": 69,
   "id": "f96eaf8c",
   "metadata": {},
   "outputs": [
    {
     "name": "stdout",
     "output_type": "stream",
     "text": [
      "Ingrese muchas palabras hola como estas todo bien\n",
      "['bien', 'todo', 'estas', 'como', 'hola']\n"
     ]
    }
   ],
   "source": [
    "var1 = input('Ingrese muchas palabras ').split()\n",
    "var2 = var1[::-1]\n",
    "print(var2)"
   ]
  },
  {
   "cell_type": "markdown",
   "id": "eb6ae993",
   "metadata": {},
   "source": [
    "### Ciclo for"
   ]
  },
  {
   "cell_type": "markdown",
   "id": "080d750d",
   "metadata": {},
   "source": [
    "- 1.    Escribe un programa que le permita realizar la escritura de los primeros 100  números naturales."
   ]
  },
  {
   "cell_type": "code",
   "execution_count": 73,
   "id": "03293be0",
   "metadata": {},
   "outputs": [
    {
     "name": "stdout",
     "output_type": "stream",
     "text": [
      "0\n",
      "1\n",
      "2\n",
      "3\n",
      "4\n",
      "5\n",
      "6\n",
      "7\n",
      "8\n",
      "9\n",
      "10\n",
      "11\n",
      "12\n",
      "13\n",
      "14\n",
      "15\n",
      "16\n",
      "17\n",
      "18\n",
      "19\n",
      "20\n",
      "21\n",
      "22\n",
      "23\n",
      "24\n",
      "25\n",
      "26\n",
      "27\n",
      "28\n",
      "29\n",
      "30\n",
      "31\n",
      "32\n",
      "33\n",
      "34\n",
      "35\n",
      "36\n",
      "37\n",
      "38\n",
      "39\n",
      "40\n",
      "41\n",
      "42\n",
      "43\n",
      "44\n",
      "45\n",
      "46\n",
      "47\n",
      "48\n",
      "49\n",
      "50\n",
      "51\n",
      "52\n",
      "53\n",
      "54\n",
      "55\n",
      "56\n",
      "57\n",
      "58\n",
      "59\n",
      "60\n",
      "61\n",
      "62\n",
      "63\n",
      "64\n",
      "65\n",
      "66\n",
      "67\n",
      "68\n",
      "69\n",
      "70\n",
      "71\n",
      "72\n",
      "73\n",
      "74\n",
      "75\n",
      "76\n",
      "77\n",
      "78\n",
      "79\n",
      "80\n",
      "81\n",
      "82\n",
      "83\n",
      "84\n",
      "85\n",
      "86\n",
      "87\n",
      "88\n",
      "89\n",
      "90\n",
      "91\n",
      "92\n",
      "93\n",
      "94\n",
      "95\n",
      "96\n",
      "97\n",
      "98\n",
      "99\n"
     ]
    }
   ],
   "source": [
    "for i in range(100):\n",
    "    print(i)"
   ]
  },
  {
   "cell_type": "markdown",
   "id": "d98dab8b",
   "metadata": {},
   "source": [
    "- 2.    Escribe un programa que le permita realizar la suma de los primeros N números impares. El N debe ingres\n",
    "arse por teclado."
   ]
  },
  {
   "cell_type": "code",
   "execution_count": 78,
   "id": "cb1beb07",
   "metadata": {},
   "outputs": [
    {
     "name": "stdout",
     "output_type": "stream",
     "text": [
      "Ingrese un numero 6\n",
      "9\n"
     ]
    }
   ],
   "source": [
    "n = int(input('Ingrese un numero '))\n",
    "total = 0\n",
    "print(sum([x for x in range(n) if x%2 != 0]))"
   ]
  },
  {
   "cell_type": "markdown",
   "id": "d06856d8",
   "metadata": {},
   "source": [
    "- 3.    Escribe un programa que calcule el factorial de un número cualquiera que se ingresa por teclado."
   ]
  },
  {
   "cell_type": "code",
   "execution_count": 88,
   "id": "0aa81811",
   "metadata": {},
   "outputs": [
    {
     "name": "stdout",
     "output_type": "stream",
     "text": [
      "Ingrese un numero 10\n",
      "3628800\n"
     ]
    }
   ],
   "source": [
    "n = int(input('Ingrese un numero '))\n",
    "fact = n\n",
    "for v in range(n-1,1,-1):\n",
    "    fact = fact * v\n",
    "print(fact)"
   ]
  },
  {
   "cell_type": "markdown",
   "id": "bbf8e0c9",
   "metadata": {},
   "source": [
    "- 4.    Muestre los N primeros números de la secuencia de Fibonacci, siendo n un dato entero."
   ]
  },
  {
   "cell_type": "code",
   "execution_count": 33,
   "id": "012fa2e5",
   "metadata": {},
   "outputs": [
    {
     "name": "stdout",
     "output_type": "stream",
     "text": [
      "Ingrese un numero 10\n",
      "[0, 1, 1, 2, 3, 5, 8, 13, 21, 34, 55]\n"
     ]
    }
   ],
   "source": [
    "n = int(input('Ingrese un numero '))\n",
    "def fibonacci(n):\n",
    "    fib = [0,1]\n",
    "    if n < 2:\n",
    "        return fib\n",
    "    for i in range (2,n+1):\n",
    "        fib.append(fib[i-2]+fib[i-1])\n",
    "    return fib\n",
    "\n",
    "print(fibonacci(n))"
   ]
  },
  {
   "cell_type": "markdown",
   "id": "6aa8c73c",
   "metadata": {},
   "source": [
    "### Ciclo while"
   ]
  },
  {
   "cell_type": "markdown",
   "id": "b3b5a7e5",
   "metadata": {},
   "source": [
    "- 1.    Escribe un programa que pida la cantidad de números positivos que se tienen que ingresar y a continuación pida números hasta que se hayan ingresado la cantidad de números indicada."
   ]
  },
  {
   "cell_type": "code",
   "execution_count": 34,
   "id": "ef77eb7e",
   "metadata": {},
   "outputs": [
    {
     "name": "stdout",
     "output_type": "stream",
     "text": [
      "Ingrese la cantidad de numeros: 3\n",
      "Ingrese un numero: 1\n",
      "Ingrese un numero: 2\n",
      "Ingrese un numero: 3\n"
     ]
    }
   ],
   "source": [
    "n = int(input('Ingrese la cantidad de numeros: '))\n",
    "i = 0\n",
    "while i < n:\n",
    "    j = int(input('Ingrese un numero: '))\n",
    "    i += 1\n"
   ]
  },
  {
   "cell_type": "markdown",
   "id": "6009b463",
   "metadata": {},
   "source": [
    "- 2.    Escribe un programa que pida dos números enteros. El programa pedirá de nuevo el segundo número mientras no sea mayor que el primero. El programa termina y emitirá los números."
   ]
  },
  {
   "cell_type": "code",
   "execution_count": 36,
   "id": "7dddfaef",
   "metadata": {},
   "outputs": [
    {
     "name": "stdout",
     "output_type": "stream",
     "text": [
      "Ingrese un numero: 3\n",
      "Ingrese otro numero: 2\n",
      "Ingrese otro numero, mayor que el primero: 1\n",
      "Ingrese otro numero, mayor que el primero: 4\n",
      "3 4\n"
     ]
    }
   ],
   "source": [
    "n = int(input('Ingrese un numero: '))\n",
    "n2 = int(input('Ingrese otro numero: '))\n",
    "while n2 < n:\n",
    "    n2 = int(input('Ingrese otro numero, mayor que el primero: '))\n",
    "print(n,n2)\n",
    "\n"
   ]
  },
  {
   "cell_type": "markdown",
   "id": "e23df63a",
   "metadata": {},
   "source": [
    "- 3.    Escribe un programa que pida números decimales mientras el usuario escriba número mayores que el primero"
   ]
  },
  {
   "cell_type": "code",
   "execution_count": 39,
   "id": "bf919474",
   "metadata": {},
   "outputs": [
    {
     "name": "stdout",
     "output_type": "stream",
     "text": [
      "Ingrese un numero: 3\n",
      "Ingrese un numero: 4\n",
      "Ingrese un numero: 4\n",
      "Ingrese un numero: 4\n",
      "Ingrese un numero: 5\n",
      "Ingrese un numero: 2\n"
     ]
    }
   ],
   "source": [
    "n = int(input('Ingrese un numero: '))\n",
    "n2 = int(input('Ingrese un numero: '))\n",
    "while n < n2:\n",
    "    n2 = int(input('Ingrese un numero: '))\n"
   ]
  },
  {
   "cell_type": "markdown",
   "id": "4947beff",
   "metadata": {},
   "source": [
    "- 4.    Escribe un programa que pida números enteros mientras el usuario ingresa números cada vez más grandes,\n",
    " el programa emite en cada iteración el número anterior ingresado y finaliza ingresando un número menor."
   ]
  },
  {
   "cell_type": "code",
   "execution_count": 44,
   "id": "0e597388",
   "metadata": {},
   "outputs": [
    {
     "name": "stdout",
     "output_type": "stream",
     "text": [
      "Ingrese un numero: 2\n",
      "Ingrese un numero: 3\n",
      "Ingrese un numero: 4\n",
      "3\n",
      "Ingrese un numero: 5\n",
      "4\n",
      "Ingrese un numero: 6\n",
      "5\n",
      "Ingrese un numero: 7\n",
      "6\n",
      "Ingrese un numero: 1\n",
      "7\n"
     ]
    }
   ],
   "source": [
    "ant = int(input('Ingrese un numero: '))\n",
    "act = int(input('Ingrese un numero: '))\n",
    "while ant < act:\n",
    "    ant = act\n",
    "    act = int(input('Ingrese un numero: '))\n",
    "    print(ant)\n",
    "    "
   ]
  },
  {
   "cell_type": "markdown",
   "id": "ad1fe39c",
   "metadata": {},
   "source": [
    "- 5.    Escribe un programa que pida números mientras no se escriba un número negativo. El programa terminará e\n",
    "mitiendo la suma de los números ingresados.\n"
   ]
  },
  {
   "cell_type": "code",
   "execution_count": 47,
   "id": "9623786b",
   "metadata": {},
   "outputs": [
    {
     "name": "stdout",
     "output_type": "stream",
     "text": [
      "Ingrese un numero, finaliza con un negativo: 1\n",
      "Ingrese un numero, finaliza con un negativo: 2\n",
      "Ingrese un numero, finaliza con un negativo: 3\n",
      "Ingrese un numero, finaliza con un negativo: 4\n",
      "Ingrese un numero, finaliza con un negativo: -1\n",
      "10\n"
     ]
    }
   ],
   "source": [
    "sum = 0\n",
    "num = 0\n",
    "while num >= 0:\n",
    "    sum += num\n",
    "    num = int(input('Ingrese un numero, finaliza con un negativo: '))\n",
    "print(sum)\n"
   ]
  },
  {
   "cell_type": "markdown",
   "id": "bc8685a2",
   "metadata": {},
   "source": [
    "- 6.    Escribe un programa que pida un valor límite positivo y a continuación pida números hasta que la suma d\n",
    "e los números introducidos supere el límite inicial.\n"
   ]
  },
  {
   "cell_type": "code",
   "execution_count": 49,
   "id": "53631ed1",
   "metadata": {},
   "outputs": [
    {
     "name": "stdout",
     "output_type": "stream",
     "text": [
      "Ingrese un numero positivo: 20\n",
      "Ingrese un numero: 2\n",
      "Ingrese un numero: 5\n",
      "Ingrese un numero: 44\n"
     ]
    }
   ],
   "source": [
    "lim = int(input('Ingrese un numero positivo: '))\n",
    "sum = 0\n",
    "while sum < lim:\n",
    "    num = int(input('Ingrese un numero: '))\n",
    "    sum += num"
   ]
  },
  {
   "cell_type": "markdown",
   "id": "43a53a5c",
   "metadata": {},
   "source": [
    "- 7.    Escribe un programa que pida primero dos números enteros (mínimo y máximo) y que después pida números enteros situados entre ellos. El programa terminará cuando se escriba un número que no esté comprendido entre\n",
    " los dos valores iniciales y emitirá la cantidad de números ingresados."
   ]
  },
  {
   "cell_type": "code",
   "execution_count": 51,
   "id": "eee2b025",
   "metadata": {},
   "outputs": [
    {
     "name": "stdout",
     "output_type": "stream",
     "text": [
      "Ingrese un numero maximo: 10\n",
      "Ingrese un numero minimo: 0\n",
      "Ingrese un numero que se encuentre en el medio de los otros: 2\n",
      "Ingrese un numero que se encuentre en el medio de los otros: 4\n",
      "Ingrese un numero que se encuentre en el medio de los otros: 3\n",
      "Ingrese un numero que se encuentre en el medio de los otros: 2\n",
      "Ingrese un numero que se encuentre en el medio de los otros: 6\n",
      "Ingrese un numero que se encuentre en el medio de los otros: 11\n"
     ]
    }
   ],
   "source": [
    "max = int(input('Ingrese un numero maximo: '))\n",
    "min = int(input('Ingrese un numero minimo: '))\n",
    "i = 0\n",
    "while True:\n",
    "    num = int(input('Ingrese un numero que se encuentre en el medio de los otros: '))\n",
    "    if num > max or num < min:\n",
    "        break;"
   ]
  },
  {
   "cell_type": "markdown",
   "id": "d2ef4d88",
   "metadata": {},
   "source": [
    "- 8.    Escribe un programa que pida números pares mientras el usuario indique que quiere seguir introduciendo números. Para indicar que quiere seguir escribiendo números, el usuario deberá contestar ‘S’ o ‘s’ a la pregunta."
   ]
  },
  {
   "cell_type": "code",
   "execution_count": null,
   "id": "75ae57b6",
   "metadata": {},
   "outputs": [],
   "source": [
    "while True:\n",
    "    max = int(input('Ingrese un numero par: '))\n",
    "    respuesta = input('Quiere seguir contestando? s/n')\n",
    "    if respuesta.upper() != 'S':\n",
    "        break;\n"
   ]
  },
  {
   "cell_type": "code",
   "execution_count": null,
   "id": "98a07ad1",
   "metadata": {},
   "outputs": [],
   "source": []
  }
 ],
 "metadata": {
  "kernelspec": {
   "display_name": "Python 3 (ipykernel)",
   "language": "python",
   "name": "python3"
  },
  "language_info": {
   "codemirror_mode": {
    "name": "ipython",
    "version": 3
   },
   "file_extension": ".py",
   "mimetype": "text/x-python",
   "name": "python",
   "nbconvert_exporter": "python",
   "pygments_lexer": "ipython3",
   "version": "3.7.9"
  }
 },
 "nbformat": 4,
 "nbformat_minor": 5
}
