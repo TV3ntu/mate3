{
 "cells": [
  {
   "cell_type": "markdown",
   "id": "6d50dbbc",
   "metadata": {},
   "source": [
    "### Rangos (range)"
   ]
  },
  {
   "cell_type": "markdown",
   "id": "8ec3c8c2",
   "metadata": {},
   "source": [
    "- 1.    Escribe un tipo range() que emita: [100, 101, 102, 103]"
   ]
  },
  {
   "cell_type": "code",
   "execution_count": 28,
   "id": "ddc9aeb0",
   "metadata": {},
   "outputs": [
    {
     "name": "stdout",
     "output_type": "stream",
     "text": [
      "[100, 101, 102, 103]\n"
     ]
    }
   ],
   "source": [
    "print(list(range(100,104)))"
   ]
  },
  {
   "cell_type": "markdown",
   "id": "39979259",
   "metadata": {},
   "source": [
    "- 2.    Escribe un tipo range() que emita: [-50, -2050, -4050, -6050]"
   ]
  },
  {
   "cell_type": "code",
   "execution_count": 29,
   "id": "2cc01ff4",
   "metadata": {},
   "outputs": [
    {
     "name": "stdout",
     "output_type": "stream",
     "text": [
      "[-50, -2050, -4050, -6050]\n"
     ]
    }
   ],
   "source": [
    "print(list(range(-50,-6051,-2000)))"
   ]
  },
  {
   "cell_type": "markdown",
   "id": "b4adaeb9",
   "metadata": {},
   "source": [
    "- 3.    Escribe un programa que pida un número entero y emita una lista de números consecutivos del 0 al valor dado"
   ]
  },
  {
   "cell_type": "code",
   "execution_count": 30,
   "id": "fc2c7939",
   "metadata": {},
   "outputs": [
    {
     "name": "stdout",
     "output_type": "stream",
     "text": [
      "Escriba un numero entero 10\n",
      "[0, 1, 2, 3, 4, 5, 6, 7, 8, 9]\n"
     ]
    }
   ],
   "source": [
    "var = int(input('Escriba un numero entero '))\n",
    "print(list(range(0,var)))"
   ]
  },
  {
   "cell_type": "markdown",
   "id": "f39bfa42",
   "metadata": {},
   "source": [
    "- 4.    Escribe un programa que pida dos números enteros (el segundo mayor que el primero) y emita listas de números consecutivos al derecho y al revés."
   ]
  },
  {
   "cell_type": "code",
   "execution_count": 31,
   "id": "a46c49f2",
   "metadata": {},
   "outputs": [
    {
     "name": "stdout",
     "output_type": "stream",
     "text": [
      "Escriba un numero entero 10\n",
      "Escriba un numero entero, menor que el anterior 5\n",
      "[5, 6, 7, 8, 9]\n",
      "[10, 9, 8, 7, 6]\n"
     ]
    }
   ],
   "source": [
    "var1 = int(input('Escriba un numero entero '))\n",
    "var2 = int(input('Escriba un numero entero, menor que el anterior '))\n",
    "print(list(range(var2,var1))) \n",
    "print(list(range(var1,var2,-1)))"
   ]
  },
  {
   "cell_type": "markdown",
   "id": "7fccd3c9",
   "metadata": {},
   "source": [
    "- 5.    Escribe un programa que pida dos números enteros y emita la lista de números consecutivos que hay entre ellos, de menor a mayor."
   ]
  },
  {
   "cell_type": "code",
   "execution_count": 32,
   "id": "fe759a33",
   "metadata": {},
   "outputs": [
    {
     "name": "stdout",
     "output_type": "stream",
     "text": [
      "Ingrese un numero entero 5\n",
      "Ingrese un numero entero 10\n",
      "[5, 6, 7, 8, 9]\n"
     ]
    }
   ],
   "source": [
    "var1 = int(input('Ingrese un numero entero '))\n",
    "var2 = int(input('Ingrese un numero entero '))\n",
    "if var1>var2:\n",
    "    print(list(range(var2,var1)))\n",
    "else:\n",
    "    print(list(range(var1,var2)))"
   ]
  },
  {
   "cell_type": "markdown",
   "id": "c3f1520d",
   "metadata": {},
   "source": [
    "- 7.    Escribe tres programas que emitan las siguientes secuencias de números:\n",
    "\n",
    "•    En el primer programa, el tipo range() que se utilice en cada bucle debe tener un único argumento.\n",
    "\n",
    "•    En el segundo programa, el tipo range() que se utilice en cada bucle debe tener dos argumentos.\n",
    "\n",
    "•    En el tercer programa, el tipo range() que se utilice en cada bucle debe tener tres argumentos.\n"
   ]
  },
  {
   "cell_type": "code",
   "execution_count": 33,
   "id": "14fa3675",
   "metadata": {},
   "outputs": [
    {
     "data": {
      "text/plain": [
       "[0, 1, 2, 3, 4, 5, 6, 7, 8, 9]"
      ]
     },
     "execution_count": 33,
     "metadata": {},
     "output_type": "execute_result"
    }
   ],
   "source": [
    "list(range(10))"
   ]
  },
  {
   "cell_type": "code",
   "execution_count": 34,
   "id": "99fcefd0",
   "metadata": {},
   "outputs": [
    {
     "data": {
      "text/plain": [
       "[10, 11, 12, 13, 14, 15, 16, 17, 18, 19]"
      ]
     },
     "execution_count": 34,
     "metadata": {},
     "output_type": "execute_result"
    }
   ],
   "source": [
    "list(range(10,20))"
   ]
  },
  {
   "cell_type": "code",
   "execution_count": null,
   "id": "980f0eb4",
   "metadata": {},
   "outputs": [],
   "source": []
  },
  {
   "cell_type": "markdown",
   "id": "9cd33a79",
   "metadata": {},
   "source": [
    "### Listas (list)"
   ]
  },
  {
   "cell_type": "code",
   "execution_count": null,
   "id": "d3499233",
   "metadata": {},
   "outputs": [],
   "source": []
  }
 ],
 "metadata": {
  "kernelspec": {
   "display_name": "Python 3 (ipykernel)",
   "language": "python",
   "name": "python3"
  },
  "language_info": {
   "codemirror_mode": {
    "name": "ipython",
    "version": 3
   },
   "file_extension": ".py",
   "mimetype": "text/x-python",
   "name": "python",
   "nbconvert_exporter": "python",
   "pygments_lexer": "ipython3",
   "version": "3.7.9"
  }
 },
 "nbformat": 4,
 "nbformat_minor": 5
}
